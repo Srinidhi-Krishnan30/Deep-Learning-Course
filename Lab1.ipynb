{
 "cells": [
  {
   "cell_type": "markdown",
   "metadata": {},
   "source": [
    "Lab Excercise - 1     \n",
    "        ( Handwriting digit classification)\n",
    "        Training Set - 60,000 images\n",
    "        Testing Set - 10,000 images"
   ]
  },
  {
   "cell_type": "code",
   "execution_count": 38,
   "metadata": {},
   "outputs": [],
   "source": [
    "#21BAI1479\n",
    "from keras.datasets import mnist\n",
    "(train_images,train_labels),(test_images,test_labels) = mnist.load_data()"
   ]
  },
  {
   "cell_type": "code",
   "execution_count": 44,
   "metadata": {},
   "outputs": [
    {
     "name": "stdout",
     "output_type": "stream",
     "text": [
      "(60000, 28, 28)\n",
      "(10000, 28, 28)\n",
      "(60000,)\n",
      "(10000,)\n"
     ]
    }
   ],
   "source": [
    "#21BAI1479\n",
    "print(train_images.shape)\n",
    "print(test_images.shape)\n",
    "print(train_labels.shape)\n",
    "print(test_labels.shape)"
   ]
  },
  {
   "cell_type": "code",
   "execution_count": 20,
   "metadata": {},
   "outputs": [
    {
     "name": "stdout",
     "output_type": "stream",
     "text": [
      "(60000,)\n"
     ]
    }
   ],
   "source": [
    "#21BAI1479\n",
    "print(train_labels.shape)"
   ]
  },
  {
   "cell_type": "code",
   "execution_count": 21,
   "metadata": {},
   "outputs": [],
   "source": [
    "#21BAI1479\n",
    "from keras import models\n",
    "from keras import layers"
   ]
  },
  {
   "cell_type": "code",
   "execution_count": 22,
   "metadata": {},
   "outputs": [],
   "source": [
    "#21BAI1479\n",
    "network = models.Sequential()\n",
    "network.add(layers.Dense(512,activation = 'relu',input_shape =(28*28,)))\n",
    "network.add(layers.Dense(10,activation = 'softmax'))"
   ]
  },
  {
   "cell_type": "code",
   "execution_count": 23,
   "metadata": {},
   "outputs": [],
   "source": [
    "#21BAI1479\n",
    "network.compile(optimizer = 'rmsprop',loss = 'categorical_crossentropy',metrics = ['accuracy'])"
   ]
  },
  {
   "cell_type": "code",
   "execution_count": 24,
   "metadata": {},
   "outputs": [],
   "source": [
    "#21BAI1479\n",
    "train_images = train_images.reshape((60000,28*28))\n",
    "test_images = test_images.reshape((10000,28*28))"
   ]
  },
  {
   "cell_type": "code",
   "execution_count": 25,
   "metadata": {},
   "outputs": [
    {
     "name": "stdout",
     "output_type": "stream",
     "text": [
      "(60000, 784)\n",
      "(10000, 784)\n",
      "(60000,)\n",
      "(10000,)\n"
     ]
    }
   ],
   "source": [
    "#21BAI1479\n",
    "print(train_images.shape)\n",
    "print(test_images.shape)\n",
    "print(train_labels.shape)\n",
    "print(test_labels.shape)"
   ]
  },
  {
   "cell_type": "code",
   "execution_count": 8,
   "metadata": {},
   "outputs": [],
   "source": [
    "#21BAI1479\n",
    "from keras.utils import to_categorical"
   ]
  },
  {
   "cell_type": "code",
   "execution_count": 9,
   "metadata": {},
   "outputs": [],
   "source": [
    "#21BAI1479\n",
    "train_labels = to_categorical(train_labels)\n",
    "test_labels = to_categorical(test_labels)"
   ]
  },
  {
   "cell_type": "code",
   "execution_count": 14,
   "metadata": {},
   "outputs": [
    {
     "name": "stdout",
     "output_type": "stream",
     "text": [
      "Epoch 1/5\n",
      "469/469 [==============================] - 3s 6ms/step - loss: 0.1341 - accuracy: 0.9922\n",
      "Epoch 2/5\n",
      "469/469 [==============================] - 2s 5ms/step - loss: 0.1319 - accuracy: 0.9916\n",
      "Epoch 3/5\n",
      "469/469 [==============================] - 3s 6ms/step - loss: 0.1333 - accuracy: 0.9920\n",
      "Epoch 4/5\n",
      "469/469 [==============================] - 3s 7ms/step - loss: 0.1237 - accuracy: 0.9926\n",
      "Epoch 5/5\n",
      "469/469 [==============================] - 4s 8ms/step - loss: 0.1137 - accuracy: 0.9931\n"
     ]
    },
    {
     "data": {
      "text/plain": [
       "<keras.src.callbacks.History at 0x1e84f085390>"
      ]
     },
     "execution_count": 14,
     "metadata": {},
     "output_type": "execute_result"
    }
   ],
   "source": [
    "#21BAI1479\n",
    "network.fit(train_images,train_labels,epochs = 5,batch_size=128)"
   ]
  },
  {
   "cell_type": "code",
   "execution_count": 15,
   "metadata": {},
   "outputs": [
    {
     "name": "stdout",
     "output_type": "stream",
     "text": [
      "313/313 [==============================] - 1s 2ms/step - loss: 0.9597 - accuracy: 0.9770\n",
      "Loss 0.9596825242042542 Accuracy 0.9769999980926514\n"
     ]
    }
   ],
   "source": [
    "#21BAI1479\n",
    "loss,accuracy = network.evaluate(test_images,test_labels)\n",
    "print(\"Loss\",loss,\"Accuracy\",accuracy)"
   ]
  },
  {
   "cell_type": "markdown",
   "metadata": {},
   "source": [
    "Practice Assignment - 1\n",
    "        MNIST Fashion dataset \n",
    "        Train images - 60000\n",
    "        Test images -  10000"
   ]
  },
  {
   "cell_type": "code",
   "execution_count": 43,
   "metadata": {},
   "outputs": [],
   "source": [
    "#21BAI1479\n",
    "from keras.datasets import fashion_mnist\n",
    "(train_data ,train_label),(test_data,test_label) = fashion_mnist.load_data()"
   ]
  },
  {
   "cell_type": "code",
   "execution_count": 44,
   "metadata": {},
   "outputs": [
    {
     "name": "stdout",
     "output_type": "stream",
     "text": [
      "(60000, 28, 28)\n",
      "(60000,)\n",
      "(10000, 28, 28)\n",
      "(10000,)\n"
     ]
    }
   ],
   "source": [
    "#21BAI1479\n",
    "print(train_data.shape)\n",
    "print(train_label.shape)\n",
    "print(test_data.shape)\n",
    "print(test_label.shape)"
   ]
  },
  {
   "cell_type": "code",
   "execution_count": 45,
   "metadata": {},
   "outputs": [],
   "source": [
    "#21BAI1479\n",
    "from keras import models\n",
    "from keras import layers"
   ]
  },
  {
   "cell_type": "code",
   "execution_count": 46,
   "metadata": {},
   "outputs": [],
   "source": [
    "#21BAI1479\n",
    "model1 = models.Sequential()\n",
    "model1.add(layers.Dense(512,activation = 'relu',input_shape=(28*28,)))\n",
    "model1.add(layers.Dense(10,activation = 'softmax'))\n"
   ]
  },
  {
   "cell_type": "code",
   "execution_count": 47,
   "metadata": {},
   "outputs": [],
   "source": [
    "#21BAI1479\n",
    "model1.compile(optimizer = 'rmsprop',loss = 'categorical_crossentropy',metrics = ['accuracy'])"
   ]
  },
  {
   "cell_type": "code",
   "execution_count": 48,
   "metadata": {},
   "outputs": [],
   "source": [
    "#21BAI1479\n",
    "train_data = train_data.reshape((60000,28*28))\n",
    "test_data = test_data.reshape((10000,28*28))"
   ]
  },
  {
   "cell_type": "code",
   "execution_count": 49,
   "metadata": {},
   "outputs": [],
   "source": [
    "#21BAI1479\n",
    "from keras.utils import to_categorical\n",
    "train_label = to_categorical(train_label)\n",
    "test_label = to_categorical(test_label)"
   ]
  },
  {
   "cell_type": "code",
   "execution_count": 50,
   "metadata": {},
   "outputs": [
    {
     "name": "stdout",
     "output_type": "stream",
     "text": [
      "Epoch 1/5\n",
      "469/469 [==============================] - 4s 7ms/step - loss: 15.2782 - accuracy: 0.7269\n",
      "Epoch 2/5\n",
      "469/469 [==============================] - 3s 7ms/step - loss: 0.6566 - accuracy: 0.8089\n",
      "Epoch 3/5\n",
      "469/469 [==============================] - 3s 7ms/step - loss: 0.5611 - accuracy: 0.8306\n",
      "Epoch 4/5\n",
      "469/469 [==============================] - 3s 7ms/step - loss: 0.5169 - accuracy: 0.8399\n",
      "Epoch 5/5\n",
      "469/469 [==============================] - 3s 7ms/step - loss: 0.4965 - accuracy: 0.8468\n"
     ]
    },
    {
     "data": {
      "text/plain": [
       "<keras.src.callbacks.History at 0x1b91cbb4950>"
      ]
     },
     "execution_count": 50,
     "metadata": {},
     "output_type": "execute_result"
    }
   ],
   "source": [
    "#21BAI1479\n",
    "model1.fit(train_data,train_label,epochs = 5,batch_size=128)"
   ]
  },
  {
   "cell_type": "code",
   "execution_count": 51,
   "metadata": {},
   "outputs": [
    {
     "name": "stdout",
     "output_type": "stream",
     "text": [
      "313/313 [==============================] - 1s 2ms/step - loss: 0.6465 - accuracy: 0.8248\n",
      "Loss 0.6464670300483704 Accuracy 0.8248000144958496\n"
     ]
    }
   ],
   "source": [
    "#21BAI1479\n",
    "loss,accuracy = model1.evaluate(test_data,test_label)\n",
    "print(\"Loss\",loss,\"Accuracy\",accuracy)"
   ]
  },
  {
   "cell_type": "markdown",
   "metadata": {},
   "source": [
    "Practice Assignment - 2 \n",
    "        Patch Camelyon Dataset\n",
    "        Train Images - \n",
    "        Test Images - "
   ]
  },
  {
   "cell_type": "code",
   "execution_count": 1,
   "metadata": {},
   "outputs": [
    {
     "name": "stderr",
     "output_type": "stream",
     "text": [
      "c:\\Users\\kadal\\AppData\\Local\\Programs\\Python\\Python311\\Lib\\site-packages\\tqdm\\auto.py:21: TqdmWarning: IProgress not found. Please update jupyter and ipywidgets. See https://ipywidgets.readthedocs.io/en/stable/user_install.html\n",
      "  from .autonotebook import tqdm as notebook_tqdm\n"
     ]
    }
   ],
   "source": [
    "import tensorflow_datasets as tdfs"
   ]
  },
  {
   "cell_type": "code",
   "execution_count": 3,
   "metadata": {},
   "outputs": [
    {
     "name": "stdout",
     "output_type": "stream",
     "text": [
      "\u001b[1mDownloading and preparing dataset Unknown size (download: Unknown size, generated: Unknown size, total: Unknown size) to C:\\Users\\kadal\\Documents\\Sem-6\\DL\\patch_camelyon\\2.0.0...\u001b[0m\n"
     ]
    },
    {
     "name": "stderr",
     "output_type": "stream",
     "text": [
      "Dl Completed...: 0 url [00:00, ? url/s]\n",
      "Dl Completed...:   0%|          | 0/1 [00:00<?, ? url/s]\n",
      "Dl Completed...:   0%|          | 0/2 [00:00<?, ? url/s]\n",
      "Dl Completed...:   0%|          | 0/3 [00:00<?, ? url/s]\n",
      "Dl Completed...:   0%|          | 0/4 [00:00<?, ? url/s]\n",
      "Dl Completed...:   0%|          | 0/5 [00:00<?, ? url/s]\n",
      "Dl Completed...:   0%|          | 0/6 [00:00<?, ? url/s]\n",
      "Dl Completed...:   0%|          | 0/6 [00:01<?, ? url/s]\n",
      "Dl Completed...:   0%|          | 0/6 [00:01<?, ? url/s]\n",
      "Dl Completed...:  17%|█▋        | 1/6 [00:01<00:06,  1.35s/ url]\n",
      "Dl Completed...:  17%|█▋        | 1/6 [00:01<00:06,  1.35s/ url]\n",
      "\u001b[A\n",
      "Dl Completed...:  17%|█▋        | 1/6 [00:01<00:06,  1.35s/ url]\n",
      "Dl Completed...:  17%|█▋        | 1/6 [00:02<00:06,  1.35s/ url]\n",
      "Dl Completed...:  17%|█▋        | 1/6 [00:02<00:06,  1.35s/ url]\n",
      "Dl Completed...:  33%|███▎      | 2/6 [00:02<00:05,  1.35s/ url]\n",
      "Dl Completed...:  33%|███▎      | 2/6 [00:02<00:05,  1.35s/ url]\n",
      "Dl Completed...:  33%|███▎      | 2/6 [00:02<00:05,  1.35s/ url]\n",
      "Dl Completed...:  33%|███▎      | 2/6 [00:02<00:05,  1.35s/ url]\n",
      "Dl Completed...:  33%|███▎      | 2/6 [00:06<00:05,  1.35s/ url]\n",
      "Dl Completed...:  50%|█████     | 3/6 [00:06<00:07,  2.38s/ url]\n",
      "Dl Completed...:  50%|█████     | 3/6 [00:06<00:07,  2.38s/ url]\n",
      "\u001b[A\n",
      "Dl Completed...:  50%|█████     | 3/6 [00:06<00:07,  2.38s/ url]\n",
      "Dl Completed...:  50%|█████     | 3/6 [00:15<00:07,  2.38s/ url]\n",
      "Dl Completed...:  50%|█████     | 3/6 [00:16<00:07,  2.38s/ url]\n",
      "Dl Completed...:  50%|█████     | 3/6 [00:17<00:07,  2.38s/ url]\n",
      "Dl Completed...:  50%|█████     | 3/6 [00:29<00:07,  2.38s/ url]\n",
      "Dl Completed...:  50%|█████     | 3/6 [00:29<00:07,  2.38s/ url]\n",
      "Dl Completed...:  50%|█████     | 3/6 [00:30<00:07,  2.38s/ url]\n",
      "Dl Completed...:  50%|█████     | 3/6 [00:39<00:07,  2.38s/ url]\n",
      "Dl Completed...:  50%|█████     | 3/6 [00:40<00:07,  2.38s/ url]\n",
      "Dl Completed...:  50%|█████     | 3/6 [00:41<00:07,  2.38s/ url]\n",
      "Dl Completed...:  50%|█████     | 3/6 [00:49<00:07,  2.38s/ url]\n",
      "Dl Completed...:  50%|█████     | 3/6 [00:51<00:07,  2.38s/ url]\n",
      "Dl Completed...:  50%|█████     | 3/6 [00:54<00:07,  2.38s/ url]\n",
      "Dl Completed...:  50%|█████     | 3/6 [01:02<00:07,  2.38s/ url]\n",
      "Dl Completed...:  50%|█████     | 3/6 [01:04<00:07,  2.38s/ url]\n",
      "Dl Completed...:  50%|█████     | 3/6 [01:10<00:07,  2.38s/ url]\n",
      "Dl Completed...:  50%|█████     | 3/6 [01:13<00:07,  2.38s/ url]\n",
      "Dl Completed...:  50%|█████     | 3/6 [01:15<00:07,  2.38s/ url]\n",
      "Dl Completed...:  50%|█████     | 3/6 [01:24<00:07,  2.38s/ url]\n",
      "Dl Completed...:  50%|█████     | 3/6 [01:28<00:07,  2.38s/ url]\n",
      "Dl Completed...:  50%|█████     | 3/6 [01:31<00:07,  2.38s/ url]\n",
      "Dl Completed...:  50%|█████     | 3/6 [01:37<00:07,  2.38s/ url]\n",
      "Dl Completed...:  50%|█████     | 3/6 [01:40<00:07,  2.38s/ url]\n",
      "Dl Completed...:  50%|█████     | 3/6 [01:46<00:07,  2.38s/ url]\n",
      "Dl Completed...:  50%|█████     | 3/6 [01:51<00:07,  2.38s/ url]\n",
      "Dl Completed...:  50%|█████     | 3/6 [01:54<00:07,  2.38s/ url]\n",
      "Dl Completed...:  50%|█████     | 3/6 [01:57<00:07,  2.38s/ url]\n",
      "Dl Completed...:  50%|█████     | 3/6 [02:06<00:07,  2.38s/ url]\n",
      "Dl Completed...:  50%|█████     | 3/6 [02:10<00:07,  2.38s/ url]\n",
      "Dl Completed...:  50%|█████     | 3/6 [02:13<00:07,  2.38s/ url]\n",
      "Dl Completed...:  50%|█████     | 3/6 [02:19<00:07,  2.38s/ url]\n",
      "Dl Completed...:  50%|█████     | 3/6 [02:26<00:07,  2.38s/ url]\n",
      "Dl Completed...:  50%|█████     | 3/6 [02:26<00:07,  2.38s/ url]\n",
      "Dl Completed...:  50%|█████     | 3/6 [02:33<00:07,  2.38s/ url]\n",
      "Dl Completed...:  50%|█████     | 3/6 [02:39<00:07,  2.38s/ url]\n",
      "Dl Completed...:  50%|█████     | 3/6 [02:40<00:07,  2.38s/ url]\n",
      "Dl Completed...:  50%|█████     | 3/6 [02:45<00:07,  2.38s/ url]\n",
      "Dl Completed...:  50%|█████     | 3/6 [02:50<00:07,  2.38s/ url]\n",
      "Dl Completed...:  50%|█████     | 3/6 [02:52<00:07,  2.38s/ url]\n",
      "Dl Completed...:  50%|█████     | 3/6 [03:00<00:07,  2.38s/ url]\n",
      "Dl Completed...:  50%|█████     | 3/6 [03:01<00:07,  2.38s/ url]\n",
      "Dl Completed...:  50%|█████     | 3/6 [03:02<00:07,  2.38s/ url]\n",
      "Dl Completed...:  50%|█████     | 3/6 [03:08<00:07,  2.38s/ url]\n",
      "Dl Completed...:  50%|█████     | 3/6 [03:12<00:07,  2.38s/ url]\n",
      "Dl Completed...:  50%|█████     | 3/6 [03:12<00:07,  2.38s/ url]\n",
      "Dl Completed...:  50%|█████     | 3/6 [03:13<00:07,  2.38s/ url]\n",
      "Dl Completed...:  50%|█████     | 3/6 [03:18<00:07,  2.38s/ url]\n",
      "Dl Completed...:  50%|█████     | 3/6 [03:20<00:07,  2.38s/ url]\n",
      "Dl Completed...:  50%|█████     | 3/6 [03:25<00:07,  2.38s/ url]\n",
      "Dl Completed...:  50%|█████     | 3/6 [03:28<00:07,  2.38s/ url]\n",
      "Dl Completed...:  50%|█████     | 3/6 [03:30<00:07,  2.38s/ url]\n",
      "Dl Completed...:  50%|█████     | 3/6 [03:34<00:07,  2.38s/ url]\n",
      "Dl Completed...:  50%|█████     | 3/6 [03:37<00:07,  2.38s/ url]\n",
      "Dl Completed...:  50%|█████     | 3/6 [03:41<00:07,  2.38s/ url]\n",
      "Dl Completed...:  50%|█████     | 3/6 [03:42<00:07,  2.38s/ url]\n",
      "Dl Completed...:  50%|█████     | 3/6 [03:47<00:07,  2.38s/ url]\n",
      "Dl Completed...:  50%|█████     | 3/6 [03:51<00:07,  2.38s/ url]\n",
      "Dl Completed...:  50%|█████     | 3/6 [03:53<00:07,  2.38s/ url]\n",
      "Dl Completed...:  50%|█████     | 3/6 [03:56<00:07,  2.38s/ url]\n",
      "Dl Completed...:  50%|█████     | 3/6 [04:05<00:07,  2.38s/ url]\n",
      "Dl Completed...:  50%|█████     | 3/6 [04:05<00:07,  2.38s/ url]\n",
      "Dl Completed...:  50%|█████     | 3/6 [04:07<00:07,  2.38s/ url]\n",
      "Dl Completed...:  50%|█████     | 3/6 [04:17<00:07,  2.38s/ url]\n",
      "Dl Completed...:  50%|█████     | 3/6 [04:17<00:07,  2.38s/ url]\n",
      "Dl Completed...:  50%|█████     | 3/6 [04:17<00:07,  2.38s/ url]\n",
      "Dl Completed...:  50%|█████     | 3/6 [04:26<00:07,  2.38s/ url]\n",
      "Dl Completed...:  50%|█████     | 3/6 [04:32<00:07,  2.38s/ url]\n",
      "Dl Completed...:  50%|█████     | 3/6 [04:32<00:07,  2.38s/ url]\n",
      "Dl Completed...:  50%|█████     | 3/6 [04:41<00:07,  2.38s/ url]\n",
      "Dl Completed...:  50%|█████     | 3/6 [04:46<00:07,  2.38s/ url]\n",
      "Dl Completed...:  50%|█████     | 3/6 [04:47<00:07,  2.38s/ url]\n",
      "Dl Completed...:  50%|█████     | 3/6 [04:55<00:07,  2.38s/ url]\n",
      "Dl Completed...:  50%|█████     | 3/6 [04:57<00:07,  2.38s/ url]\n",
      "Dl Completed...:  50%|█████     | 3/6 [05:04<00:07,  2.38s/ url]\n",
      "Dl Completed...:  50%|█████     | 3/6 [05:07<00:07,  2.38s/ url]\n",
      "Dl Completed...:  50%|█████     | 3/6 [05:09<00:07,  2.38s/ url]\n",
      "Dl Completed...:  50%|█████     | 3/6 [05:14<00:07,  2.38s/ url]\n",
      "Dl Completed...:  50%|█████     | 3/6 [05:16<00:07,  2.38s/ url]\n",
      "Dl Completed...:  50%|█████     | 3/6 [05:22<00:07,  2.38s/ url]\n",
      "Dl Completed...:  50%|█████     | 3/6 [05:24<00:07,  2.38s/ url]\n",
      "Dl Completed...:  50%|█████     | 3/6 [05:31<00:07,  2.38s/ url]\n",
      "Dl Completed...:  50%|█████     | 3/6 [05:35<00:07,  2.38s/ url]\n",
      "Dl Completed...:  50%|█████     | 3/6 [05:36<00:07,  2.38s/ url]\n",
      "Dl Completed...:  50%|█████     | 3/6 [05:46<00:07,  2.38s/ url]\n",
      "Dl Completed...:  50%|█████     | 3/6 [05:48<00:07,  2.38s/ url]\n",
      "Dl Completed...:  50%|█████     | 3/6 [05:53<00:07,  2.38s/ url]\n",
      "Dl Completed...:  50%|█████     | 3/6 [06:01<00:07,  2.38s/ url]\n",
      "Dl Completed...:  50%|█████     | 3/6 [06:05<00:07,  2.38s/ url]\n",
      "Dl Completed...:  50%|█████     | 3/6 [06:09<00:07,  2.38s/ url]\n",
      "Dl Completed...:  50%|█████     | 3/6 [06:14<00:07,  2.38s/ url]\n",
      "Dl Completed...:  50%|█████     | 3/6 [06:20<00:07,  2.38s/ url]\n",
      "Dl Completed...:  50%|█████     | 3/6 [06:23<00:07,  2.38s/ url]\n",
      "Dl Completed...:  50%|█████     | 3/6 [06:31<00:07,  2.38s/ url]\n",
      "Dl Completed...:  50%|█████     | 3/6 [06:35<00:07,  2.38s/ url]\n",
      "Dl Completed...:  50%|█████     | 3/6 [06:40<00:07,  2.38s/ url]\n",
      "Dl Completed...:  50%|█████     | 3/6 [06:43<00:07,  2.38s/ url]\n",
      "Dl Completed...:  50%|█████     | 3/6 [06:46<00:07,  2.38s/ url]\n",
      "Dl Completed...:  50%|█████     | 3/6 [06:49<00:07,  2.38s/ url]\n",
      "Dl Completed...:  50%|█████     | 3/6 [06:54<00:07,  2.38s/ url]\n",
      "Dl Completed...:  50%|█████     | 3/6 [07:00<00:07,  2.38s/ url]\n",
      "Dl Completed...:  50%|█████     | 3/6 [07:05<00:07,  2.38s/ url]\n",
      "Dl Completed...:  50%|█████     | 3/6 [07:09<00:07,  2.38s/ url]\n",
      "Dl Completed...:  50%|█████     | 3/6 [07:19<00:07,  2.38s/ url]\n",
      "Dl Completed...:  50%|█████     | 3/6 [07:19<00:07,  2.38s/ url]\n",
      "Dl Completed...:  50%|█████     | 3/6 [07:24<00:07,  2.38s/ url]\n",
      "Dl Completed...:  50%|█████     | 3/6 [07:30<00:07,  2.38s/ url]\n",
      "Dl Completed...:  50%|█████     | 3/6 [07:33<00:07,  2.38s/ url]\n",
      "Dl Completed...:  50%|█████     | 3/6 [07:36<00:07,  2.38s/ url]\n",
      "Dl Completed...:  50%|█████     | 3/6 [07:43<00:07,  2.38s/ url]\n",
      "Dl Completed...:  50%|█████     | 3/6 [07:44<00:07,  2.38s/ url]\n",
      "Dl Completed...:  50%|█████     | 3/6 [07:47<00:07,  2.38s/ url]\n",
      "Dl Completed...:  50%|█████     | 3/6 [07:55<00:07,  2.38s/ url]\n",
      "Dl Completed...:  50%|█████     | 3/6 [07:58<00:07,  2.38s/ url]\n",
      "Dl Completed...:  50%|█████     | 3/6 [07:58<00:07,  2.38s/ url]\n",
      "Dl Completed...:  50%|█████     | 3/6 [08:15<00:07,  2.38s/ url]\n",
      "Dl Completed...:  50%|█████     | 3/6 [08:15<00:07,  2.38s/ url]\n",
      "Dl Completed...:  50%|█████     | 3/6 [08:15<00:07,  2.38s/ url]\n",
      "Dl Completed...:  50%|█████     | 3/6 [08:26<00:07,  2.38s/ url]\n",
      "Dl Completed...:  50%|█████     | 3/6 [08:26<00:07,  2.38s/ url]\n",
      "Dl Completed...:  50%|█████     | 3/6 [08:29<00:07,  2.38s/ url]\n",
      "Dl Completed...:  50%|█████     | 3/6 [08:31<00:07,  2.38s/ url]\n",
      "Dl Completed...:  50%|█████     | 3/6 [08:41<00:07,  2.38s/ url]\n",
      "Dl Completed...:  50%|█████     | 3/6 [08:41<00:07,  2.38s/ url]\n",
      "Dl Completed...:  50%|█████     | 3/6 [08:42<00:07,  2.38s/ url]\n",
      "Dl Completed...:  50%|█████     | 3/6 [08:53<00:07,  2.38s/ url]\n",
      "Dl Completed...:  50%|█████     | 3/6 [08:58<00:07,  2.38s/ url]\n",
      "Dl Completed...:  50%|█████     | 3/6 [08:58<00:07,  2.38s/ url]\n",
      "Dl Completed...:  50%|█████     | 3/6 [09:21<00:07,  2.38s/ url]\n",
      "Dl Completed...:  50%|█████     | 3/6 [09:35<00:07,  2.38s/ url]\n",
      "Dl Completed...:  50%|█████     | 3/6 [09:39<00:07,  2.38s/ url]\n",
      "Dl Completed...:  50%|█████     | 3/6 [09:40<00:07,  2.38s/ url]\n",
      "Dl Completed...:  50%|█████     | 3/6 [09:54<00:07,  2.38s/ url]\n",
      "Dl Completed...:  50%|█████     | 3/6 [09:55<00:07,  2.38s/ url]\n",
      "Dl Completed...:  50%|█████     | 3/6 [09:55<00:07,  2.38s/ url]\n",
      "Dl Completed...:  50%|█████     | 3/6 [10:08<00:07,  2.38s/ url]\n",
      "Dl Completed...:  50%|█████     | 3/6 [10:09<00:07,  2.38s/ url]\n",
      "Dl Completed...:  50%|█████     | 3/6 [10:13<00:07,  2.38s/ url]\n",
      "Dl Completed...:  50%|█████     | 3/6 [10:27<00:07,  2.38s/ url]\n",
      "Dl Completed...:  50%|█████     | 3/6 [10:28<00:07,  2.38s/ url]\n",
      "Dl Completed...:  50%|█████     | 3/6 [10:29<00:07,  2.38s/ url]\n",
      "Dl Completed...:  50%|█████     | 3/6 [10:43<00:07,  2.38s/ url]\n",
      "Dl Completed...:  50%|█████     | 3/6 [10:45<00:07,  2.38s/ url]\n",
      "Dl Completed...:  50%|█████     | 3/6 [10:46<00:07,  2.38s/ url]\n",
      "Dl Completed...:  50%|█████     | 3/6 [11:02<00:07,  2.38s/ url]\n",
      "Dl Completed...:  50%|█████     | 3/6 [11:03<00:07,  2.38s/ url]\n",
      "Dl Completed...:  50%|█████     | 3/6 [11:03<00:07,  2.38s/ url]\n",
      "Dl Completed...:  50%|█████     | 3/6 [11:15<00:07,  2.38s/ url]\n",
      "Dl Completed...:  50%|█████     | 3/6 [11:18<00:07,  2.38s/ url]\n",
      "Dl Completed...:  50%|█████     | 3/6 [11:20<00:07,  2.38s/ url]\n",
      "Dl Completed...:  50%|█████     | 3/6 [11:31<00:07,  2.38s/ url]\n",
      "Dl Completed...:  50%|█████     | 3/6 [11:33<00:07,  2.38s/ url]\n",
      "Dl Completed...:  50%|█████     | 3/6 [11:36<00:07,  2.38s/ url]\n",
      "Dl Completed...:  50%|█████     | 3/6 [11:45<00:07,  2.38s/ url]\n",
      "Dl Completed...:  50%|█████     | 3/6 [11:48<00:07,  2.38s/ url]\n",
      "Dl Completed...:  50%|█████     | 3/6 [11:52<00:07,  2.38s/ url]\n",
      "Dl Completed...:  50%|█████     | 3/6 [12:04<00:07,  2.38s/ url]\n",
      "Dl Completed...:  50%|█████     | 3/6 [12:08<00:07,  2.38s/ url]\n",
      "Dl Completed...:  50%|█████     | 3/6 [12:11<00:07,  2.38s/ url]\n",
      "Dl Completed...:  50%|█████     | 3/6 [12:21<00:07,  2.38s/ url]\n",
      "Dl Completed...:  50%|█████     | 3/6 [12:26<00:07,  2.38s/ url]\n",
      "Dl Completed...:  50%|█████     | 3/6 [12:30<00:07,  2.38s/ url]\n",
      "Dl Completed...:  50%|█████     | 3/6 [12:39<00:07,  2.38s/ url]\n",
      "Dl Completed...:  50%|█████     | 3/6 [12:42<00:07,  2.38s/ url]\n",
      "Dl Completed...:  50%|█████     | 3/6 [12:46<00:07,  2.38s/ url]\n",
      "Dl Completed...:  50%|█████     | 3/6 [12:52<00:07,  2.38s/ url]\n",
      "Dl Completed...:  50%|█████     | 3/6 [12:57<00:07,  2.38s/ url]\n",
      "Dl Completed...:  50%|█████     | 3/6 [13:00<00:07,  2.38s/ url]\n",
      "Dl Completed...:  50%|█████     | 3/6 [13:07<00:07,  2.38s/ url]\n",
      "Dl Completed...:  50%|█████     | 3/6 [13:10<00:07,  2.38s/ url]\n",
      "Dl Completed...:  50%|█████     | 3/6 [13:11<00:07,  2.38s/ url]\n",
      "Dl Completed...:  50%|█████     | 3/6 [13:15<00:07,  2.38s/ url]\n",
      "Dl Completed...:  50%|█████     | 3/6 [13:20<00:07,  2.38s/ url]\n",
      "Dl Completed...:  50%|█████     | 3/6 [13:24<00:07,  2.38s/ url]\n",
      "Dl Completed...:  50%|█████     | 3/6 [13:29<00:07,  2.38s/ url]\n",
      "Dl Completed...:  50%|█████     | 3/6 [13:31<00:07,  2.38s/ url]\n",
      "Dl Completed...:  50%|█████     | 3/6 [13:42<00:07,  2.38s/ url]\n",
      "Dl Completed...:  50%|█████     | 3/6 [13:46<00:07,  2.38s/ url]\n",
      "Dl Completed...:  50%|█████     | 3/6 [13:53<00:07,  2.38s/ url]\n",
      "Dl Completed...:  50%|█████     | 3/6 [13:59<00:07,  2.38s/ url]\n",
      "Dl Completed...:  50%|█████     | 3/6 [14:03<00:07,  2.38s/ url]\n",
      "Dl Completed...:  50%|█████     | 3/6 [14:07<00:07,  2.38s/ url]\n",
      "Dl Completed...:  50%|█████     | 3/6 [14:18<00:07,  2.38s/ url]\n",
      "Dl Completed...:  50%|█████     | 3/6 [14:21<00:07,  2.38s/ url]\n",
      "Dl Completed...:  50%|█████     | 3/6 [14:24<00:07,  2.38s/ url]\n",
      "Dl Completed...:  50%|█████     | 3/6 [14:34<00:07,  2.38s/ url]\n",
      "Dl Completed...:  50%|█████     | 3/6 [14:36<00:07,  2.38s/ url]\n",
      "Dl Completed...:  50%|█████     | 3/6 [14:41<00:07,  2.38s/ url]\n",
      "Dl Completed...:  50%|█████     | 3/6 [14:46<00:07,  2.38s/ url]\n",
      "Dl Completed...:  50%|█████     | 3/6 [14:48<00:07,  2.38s/ url]\n",
      "Dl Completed...:  50%|█████     | 3/6 [14:54<00:07,  2.38s/ url]\n",
      "Dl Completed...:  50%|█████     | 3/6 [14:58<00:07,  2.38s/ url]\n",
      "Dl Completed...:  50%|█████     | 3/6 [15:07<00:07,  2.38s/ url]\n",
      "Dl Completed...:  50%|█████     | 3/6 [15:08<00:07,  2.38s/ url]\n",
      "Dl Completed...:  50%|█████     | 3/6 [15:14<00:07,  2.38s/ url]\n",
      "Dl Completed...:  50%|█████     | 3/6 [15:24<00:07,  2.38s/ url]\n",
      "Dl Completed...:  50%|█████     | 3/6 [15:25<00:07,  2.38s/ url]\n",
      "Dl Completed...:  50%|█████     | 3/6 [15:29<00:07,  2.38s/ url]\n",
      "Dl Completed...:  50%|█████     | 3/6 [15:40<00:07,  2.38s/ url]\n",
      "Dl Completed...:  50%|█████     | 3/6 [15:44<00:07,  2.38s/ url]\n",
      "Dl Completed...:  50%|█████     | 3/6 [15:50<00:07,  2.38s/ url]\n",
      "Dl Completed...:  50%|█████     | 3/6 [15:53<00:07,  2.38s/ url]\n",
      "Dl Completed...:  50%|█████     | 3/6 [15:56<00:07,  2.38s/ url]\n",
      "Dl Completed...:  50%|█████     | 3/6 [16:04<00:07,  2.38s/ url]\n",
      "Dl Completed...:  50%|█████     | 3/6 [16:05<00:07,  2.38s/ url]\n",
      "Dl Completed...:  50%|█████     | 3/6 [16:09<00:07,  2.38s/ url]\n",
      "Dl Completed...:  50%|█████     | 3/6 [16:16<00:07,  2.38s/ url]\n",
      "Dl Completed...:  50%|█████     | 3/6 [16:19<00:07,  2.38s/ url]\n",
      "Dl Completed...:  50%|█████     | 3/6 [16:22<00:07,  2.38s/ url]\n",
      "Dl Completed...:  50%|█████     | 3/6 [16:36<00:07,  2.38s/ url]\n",
      "Dl Completed...:  50%|█████     | 3/6 [16:37<00:07,  2.38s/ url]\n",
      "Dl Completed...:  50%|█████     | 3/6 [16:44<00:07,  2.38s/ url]\n",
      "Dl Completed...:  50%|█████     | 3/6 [16:54<00:07,  2.38s/ url]\n",
      "Dl Completed...:  50%|█████     | 3/6 [16:56<00:07,  2.38s/ url]\n",
      "Dl Completed...:  50%|█████     | 3/6 [17:01<00:07,  2.38s/ url]\n",
      "Dl Completed...:  50%|█████     | 3/6 [17:10<00:07,  2.38s/ url]\n",
      "Dl Completed...:  50%|█████     | 3/6 [17:11<00:07,  2.38s/ url]\n",
      "Dl Completed...:  50%|█████     | 3/6 [17:21<00:07,  2.38s/ url]\n",
      "Dl Completed...:  50%|█████     | 3/6 [17:28<00:07,  2.38s/ url]\n",
      "Dl Completed...:  50%|█████     | 3/6 [17:31<00:07,  2.38s/ url]\n",
      "Dl Completed...:  50%|█████     | 3/6 [17:38<00:07,  2.38s/ url]\n",
      "Dl Completed...:  50%|█████     | 3/6 [17:44<00:07,  2.38s/ url]\n",
      "Dl Completed...:  50%|█████     | 3/6 [17:47<00:07,  2.38s/ url]\n",
      "Dl Completed...:  50%|█████     | 3/6 [17:57<00:07,  2.38s/ url]\n",
      "Dl Completed...:  50%|█████     | 3/6 [18:05<00:07,  2.38s/ url]\n",
      "Dl Completed...:  50%|█████     | 3/6 [18:06<00:07,  2.38s/ url]\n",
      "Dl Completed...:  50%|█████     | 3/6 [18:14<00:07,  2.38s/ url]\n",
      "Dl Completed...:  50%|█████     | 3/6 [18:19<00:07,  2.38s/ url]\n",
      "Dl Completed...:  50%|█████     | 3/6 [18:20<00:07,  2.38s/ url]\n",
      "Dl Completed...:  50%|█████     | 3/6 [18:24<00:07,  2.38s/ url]\n",
      "Dl Completed...:  50%|█████     | 3/6 [18:36<00:07,  2.38s/ url]\n",
      "Dl Completed...:  50%|█████     | 3/6 [18:40<00:07,  2.38s/ url]\n",
      "Dl Completed...:  50%|█████     | 3/6 [18:48<00:07,  2.38s/ url]\n",
      "Dl Completed...:  50%|█████     | 3/6 [18:55<00:07,  2.38s/ url]\n",
      "Dl Completed...:  50%|█████     | 3/6 [18:57<00:07,  2.38s/ url]\n",
      "Dl Completed...:  50%|█████     | 3/6 [18:59<00:07,  2.38s/ url]\n",
      "Dl Completed...:  50%|█████     | 3/6 [19:08<00:07,  2.38s/ url]\n",
      "Dl Completed...:  50%|█████     | 3/6 [19:10<00:07,  2.38s/ url]\n",
      "Dl Completed...:  50%|█████     | 3/6 [19:11<00:07,  2.38s/ url]\n",
      "Dl Completed...:  50%|█████     | 3/6 [19:24<00:07,  2.38s/ url]\n",
      "Dl Completed...:  50%|█████     | 3/6 [19:25<00:07,  2.38s/ url]\n",
      "Dl Completed...:  50%|█████     | 3/6 [19:25<00:07,  2.38s/ url]\n",
      "Dl Completed...:  50%|█████     | 3/6 [19:43<00:07,  2.38s/ url]\n",
      "Dl Completed...:  50%|█████     | 3/6 [19:46<00:07,  2.38s/ url]\n",
      "Dl Completed...:  50%|█████     | 3/6 [19:46<00:07,  2.38s/ url]\n",
      "Dl Completed...:  50%|█████     | 3/6 [20:05<00:07,  2.38s/ url]\n",
      "Dl Completed...:  50%|█████     | 3/6 [20:07<00:07,  2.38s/ url]\n",
      "Dl Completed...:  50%|█████     | 3/6 [20:08<00:07,  2.38s/ url]\n",
      "Dl Completed...:  50%|█████     | 3/6 [20:20<00:07,  2.38s/ url]\n",
      "Dl Completed...:  50%|█████     | 3/6 [20:26<00:07,  2.38s/ url]\n",
      "Dl Completed...:  50%|█████     | 3/6 [20:27<00:07,  2.38s/ url]\n",
      "Dl Completed...:  50%|█████     | 3/6 [20:38<00:07,  2.38s/ url]\n",
      "Dl Completed...:  50%|█████     | 3/6 [20:40<00:07,  2.38s/ url]\n",
      "Dl Completed...:  50%|█████     | 3/6 [20:44<00:07,  2.38s/ url]\n",
      "Dl Completed...:  50%|█████     | 3/6 [20:49<00:07,  2.38s/ url]\n",
      "Dl Completed...:  50%|█████     | 3/6 [20:50<00:07,  2.38s/ url]\n",
      "Dl Completed...:  50%|█████     | 3/6 [20:51<00:07,  2.38s/ url]\n",
      "Dl Completed...:  50%|█████     | 3/6 [21:01<00:07,  2.38s/ url]\n",
      "Dl Completed...:  50%|█████     | 3/6 [21:07<00:07,  2.38s/ url]\n",
      "Dl Completed...:  50%|█████     | 3/6 [21:08<00:07,  2.38s/ url]\n",
      "Dl Completed...:  50%|█████     | 3/6 [21:20<00:07,  2.38s/ url]\n",
      "Dl Completed...:  50%|█████     | 3/6 [21:26<00:07,  2.38s/ url]\n",
      "Dl Completed...:  50%|█████     | 3/6 [21:28<00:07,  2.38s/ url]\n",
      "Dl Completed...:  50%|█████     | 3/6 [21:37<00:07,  2.38s/ url]\n",
      "Dl Completed...:  50%|█████     | 3/6 [21:39<00:07,  2.38s/ url]\n",
      "Dl Completed...:  50%|█████     | 3/6 [21:47<00:07,  2.38s/ url]\n",
      "Dl Completed...:  50%|█████     | 3/6 [21:50<00:07,  2.38s/ url]\n",
      "Dl Completed...:  50%|█████     | 3/6 [21:53<00:07,  2.38s/ url]\n",
      "Dl Completed...:  50%|█████     | 3/6 [21:55<00:07,  2.38s/ url]\n",
      "Dl Completed...:  50%|█████     | 3/6 [22:01<00:07,  2.38s/ url]\n",
      "Dl Completed...:  50%|█████     | 3/6 [22:04<00:07,  2.38s/ url]\n",
      "Dl Completed...:  50%|█████     | 3/6 [22:04<00:07,  2.38s/ url]\n",
      "Dl Completed...:  50%|█████     | 3/6 [22:17<00:07,  2.38s/ url]\n",
      "Dl Completed...:  50%|█████     | 3/6 [22:20<00:07,  2.38s/ url]\n",
      "Dl Completed...:  50%|█████     | 3/6 [22:25<00:07,  2.38s/ url]\n",
      "Dl Completed...:  50%|█████     | 3/6 [22:35<00:07,  2.38s/ url]\n",
      "Dl Completed...:  50%|█████     | 3/6 [22:38<00:07,  2.38s/ url]\n",
      "Dl Completed...:  50%|█████     | 3/6 [22:40<00:07,  2.38s/ url]\n",
      "Dl Completed...:  50%|█████     | 3/6 [22:52<00:07,  2.38s/ url]\n",
      "Dl Completed...:  50%|█████     | 3/6 [22:56<00:07,  2.38s/ url]\n",
      "Dl Completed...:  50%|█████     | 3/6 [22:58<00:07,  2.38s/ url]\n",
      "Dl Completed...:  50%|█████     | 3/6 [23:10<00:07,  2.38s/ url]\n",
      "Dl Completed...:  50%|█████     | 3/6 [23:15<00:07,  2.38s/ url]\n",
      "Dl Completed...:  50%|█████     | 3/6 [23:16<00:07,  2.38s/ url]\n",
      "Dl Completed...:  50%|█████     | 3/6 [23:23<00:07,  2.38s/ url]\n",
      "Dl Completed...:  50%|█████     | 3/6 [23:33<00:07,  2.38s/ url]\n",
      "Dl Completed...:  50%|█████     | 3/6 [23:35<00:07,  2.38s/ url]\n",
      "Dl Completed...:  50%|█████     | 3/6 [23:36<00:07,  2.38s/ url]\n",
      "Dl Completed...:  50%|█████     | 3/6 [23:46<00:07,  2.38s/ url]\n",
      "Dl Completed...:  50%|█████     | 3/6 [23:46<00:07,  2.38s/ url]\n",
      "Dl Completed...:  50%|█████     | 3/6 [23:47<00:07,  2.38s/ url]\n",
      "Dl Completed...:  50%|█████     | 3/6 [24:06<00:07,  2.38s/ url]\n",
      "Dl Completed...:  50%|█████     | 3/6 [24:07<00:07,  2.38s/ url]\n",
      "Dl Completed...:  50%|█████     | 3/6 [24:09<00:07,  2.38s/ url]\n",
      "Dl Completed...:  50%|█████     | 3/6 [24:23<00:07,  2.38s/ url]\n",
      "Dl Completed...:  50%|█████     | 3/6 [24:26<00:07,  2.38s/ url]\n",
      "Dl Completed...:  50%|█████     | 3/6 [24:32<00:07,  2.38s/ url]\n",
      "Dl Completed...:  50%|█████     | 3/6 [24:44<00:07,  2.38s/ url]\n",
      "Dl Completed...:  50%|█████     | 3/6 [24:45<00:07,  2.38s/ url]\n",
      "Dl Completed...:  50%|█████     | 3/6 [24:52<00:07,  2.38s/ url]\n",
      "Dl Completed...:  50%|█████     | 3/6 [25:00<00:07,  2.38s/ url]\n",
      "Dl Completed...:  50%|█████     | 3/6 [25:05<00:07,  2.38s/ url]\n",
      "Dl Completed...:  50%|█████     | 3/6 [25:07<00:07,  2.38s/ url]\n",
      "Dl Completed...:  50%|█████     | 3/6 [25:21<00:07,  2.38s/ url]\n",
      "Dl Completed...:  50%|█████     | 3/6 [25:29<00:07,  2.38s/ url]\n",
      "Dl Completed...:  50%|█████     | 3/6 [25:30<00:07,  2.38s/ url]\n",
      "Dl Completed...:  50%|█████     | 3/6 [25:40<00:07,  2.38s/ url]\n",
      "Dl Completed...:  50%|█████     | 3/6 [25:46<00:07,  2.38s/ url]\n",
      "Dl Completed...:  50%|█████     | 3/6 [25:50<00:07,  2.38s/ url]\n",
      "Dl Completed...:  50%|█████     | 3/6 [25:57<00:07,  2.38s/ url]\n",
      "Dl Completed...:  50%|█████     | 3/6 [26:01<00:07,  2.38s/ url]\n",
      "Dl Completed...:  50%|█████     | 3/6 [26:02<00:07,  2.38s/ url]\n",
      "Dl Completed...:  50%|█████     | 3/6 [26:10<00:07,  2.38s/ url]\n",
      "Dl Completed...:  50%|█████     | 3/6 [26:13<00:07,  2.38s/ url]\n",
      "Dl Completed...:  50%|█████     | 3/6 [26:16<00:07,  2.38s/ url]\n",
      "Dl Completed...:  50%|█████     | 3/6 [26:25<00:07,  2.38s/ url]\n",
      "Dl Completed...:  50%|█████     | 3/6 [26:26<00:07,  2.38s/ url]\n",
      "Dl Completed...:  50%|█████     | 3/6 [26:32<00:07,  2.38s/ url]\n",
      "Dl Completed...:  50%|█████     | 3/6 [26:41<00:07,  2.38s/ url]\n",
      "Dl Completed...:  50%|█████     | 3/6 [26:42<00:07,  2.38s/ url]\n",
      "Dl Completed...:  50%|█████     | 3/6 [26:43<00:07,  2.38s/ url]\n",
      "Dl Completed...:  50%|█████     | 3/6 [26:55<00:07,  2.38s/ url]\n",
      "Dl Completed...:  50%|█████     | 3/6 [26:55<00:07,  2.38s/ url]\n",
      "Dl Completed...:  50%|█████     | 3/6 [27:00<00:07,  2.38s/ url]\n",
      "Dl Completed...:  50%|█████     | 3/6 [27:09<00:07,  2.38s/ url]\n",
      "Dl Completed...:  50%|█████     | 3/6 [27:10<00:07,  2.38s/ url]\n",
      "Dl Completed...:  50%|█████     | 3/6 [27:20<00:07,  2.38s/ url]\n",
      "Dl Completed...:  50%|█████     | 3/6 [27:27<00:07,  2.38s/ url]\n",
      "Dl Completed...:  50%|█████     | 3/6 [27:32<00:07,  2.38s/ url]\n",
      "Dl Completed...:  50%|█████     | 3/6 [27:35<00:07,  2.38s/ url]\n",
      "Dl Completed...:  50%|█████     | 3/6 [27:43<00:07,  2.38s/ url]\n",
      "Dl Completed...:  50%|█████     | 3/6 [27:53<00:07,  2.38s/ url]\n",
      "Dl Completed...:  50%|█████     | 3/6 [27:54<00:07,  2.38s/ url]\n",
      "Dl Completed...:  50%|█████     | 3/6 [28:02<00:07,  2.38s/ url]\n",
      "Dl Completed...:  50%|█████     | 3/6 [28:07<00:07,  2.38s/ url]\n",
      "Dl Completed...:  50%|█████     | 3/6 [28:10<00:07,  2.38s/ url]\n",
      "Dl Completed...:  50%|█████     | 3/6 [28:16<00:07,  2.38s/ url]\n",
      "Dl Completed...:  50%|█████     | 3/6 [28:22<00:07,  2.38s/ url]\n",
      "Dl Completed...:  50%|█████     | 3/6 [28:30<00:07,  2.38s/ url]\n",
      "Dl Completed...:  50%|█████     | 3/6 [28:31<00:07,  2.38s/ url]\n",
      "Dl Completed...:  50%|█████     | 3/6 [28:36<00:07,  2.38s/ url]\n",
      "Dl Completed...:  50%|█████     | 3/6 [28:42<00:07,  2.38s/ url]\n",
      "Dl Completed...:  50%|█████     | 3/6 [28:46<00:07,  2.38s/ url]\n",
      "Dl Completed...:  50%|█████     | 3/6 [28:51<00:07,  2.38s/ url]\n",
      "Dl Completed...:  50%|█████     | 3/6 [28:56<00:07,  2.38s/ url]\n",
      "Dl Completed...:  50%|█████     | 3/6 [29:05<00:07,  2.38s/ url]\n",
      "Dl Completed...:  50%|█████     | 3/6 [29:05<00:07,  2.38s/ url]\n",
      "Dl Completed...:  50%|█████     | 3/6 [29:13<00:07,  2.38s/ url]\n",
      "Dl Completed...:  50%|█████     | 3/6 [29:23<00:07,  2.38s/ url]\n",
      "Dl Completed...:  50%|█████     | 3/6 [29:23<00:07,  2.38s/ url]\n",
      "Dl Completed...:  50%|█████     | 3/6 [29:30<00:07,  2.38s/ url]\n",
      "Dl Completed...:  50%|█████     | 3/6 [29:38<00:07,  2.38s/ url]\n",
      "Dl Completed...:  50%|█████     | 3/6 [29:41<00:07,  2.38s/ url]\n",
      "Dl Completed...:  50%|█████     | 3/6 [29:43<00:07,  2.38s/ url]\n",
      "Dl Completed...:  50%|█████     | 3/6 [29:51<00:07,  2.38s/ url]\n",
      "Dl Completed...:  50%|█████     | 3/6 [29:53<00:07,  2.38s/ url]\n",
      "Dl Completed...:  50%|█████     | 3/6 [29:54<00:07,  2.38s/ url]\n",
      "Dl Completed...:  50%|█████     | 3/6 [30:08<00:07,  2.38s/ url]\n",
      "Dl Completed...:  50%|█████     | 3/6 [30:08<00:07,  2.38s/ url]\n",
      "Dl Completed...:  50%|█████     | 3/6 [30:08<00:07,  2.38s/ url]\n",
      "Dl Completed...:  50%|█████     | 3/6 [30:21<00:07,  2.38s/ url]\n",
      "Dl Completed...:  50%|█████     | 3/6 [30:24<00:07,  2.38s/ url]\n",
      "Dl Completed...:  50%|█████     | 3/6 [30:25<00:07,  2.38s/ url]\n",
      "Dl Completed...:  50%|█████     | 3/6 [30:36<00:07,  2.38s/ url]\n",
      "Dl Completed...:  50%|█████     | 3/6 [30:43<00:07,  2.38s/ url]\n",
      "Dl Completed...:  50%|█████     | 3/6 [30:43<00:07,  2.38s/ url]\n",
      "Dl Completed...:  50%|█████     | 3/6 [30:52<00:07,  2.38s/ url]\n",
      "Dl Completed...:  50%|█████     | 3/6 [30:58<00:07,  2.38s/ url]\n",
      "Dl Completed...:  50%|█████     | 3/6 [31:04<00:07,  2.38s/ url]\n",
      "Dl Completed...:  50%|█████     | 3/6 [31:06<00:07,  2.38s/ url]\n",
      "Dl Completed...:  50%|█████     | 3/6 [31:12<00:07,  2.38s/ url]\n",
      "Dl Completed...:  50%|█████     | 3/6 [31:12<00:07,  2.38s/ url]\n",
      "Dl Completed...:  50%|█████     | 3/6 [31:15<00:07,  2.38s/ url]\n",
      "Dl Completed...:  50%|█████     | 3/6 [31:18<00:07,  2.38s/ url]\n",
      "Dl Completed...:  50%|█████     | 3/6 [31:21<00:07,  2.38s/ url]\n",
      "Dl Completed...:  50%|█████     | 3/6 [31:21<00:07,  2.38s/ url]\n",
      "Dl Completed...:  50%|█████     | 3/6 [31:24<00:07,  2.38s/ url]\n",
      "Dl Completed...:  50%|█████     | 3/6 [31:27<00:07,  2.38s/ url]\n",
      "Dl Completed...:  50%|█████     | 3/6 [31:31<00:07,  2.38s/ url]\n",
      "Dl Completed...:  50%|█████     | 3/6 [31:32<00:07,  2.38s/ url]\n",
      "Dl Completed...:  50%|█████     | 3/6 [31:35<00:07,  2.38s/ url]\n",
      "Dl Completed...:  50%|█████     | 3/6 [31:42<00:07,  2.38s/ url]\n",
      "Dl Completed...:  50%|█████     | 3/6 [31:42<00:07,  2.38s/ url]\n",
      "Dl Completed...:  50%|█████     | 3/6 [31:45<00:07,  2.38s/ url]\n",
      "Dl Completed...:  50%|█████     | 3/6 [31:47<00:07,  2.38s/ url]\n",
      "Dl Completed...:  50%|█████     | 3/6 [31:55<00:07,  2.38s/ url]\n",
      "Dl Completed...:  50%|█████     | 3/6 [31:59<00:07,  2.38s/ url]\n",
      "Dl Completed...:  50%|█████     | 3/6 [32:04<00:07,  2.38s/ url]\n",
      "Dl Completed...:  50%|█████     | 3/6 [32:10<00:07,  2.38s/ url]\n",
      "Dl Completed...:  50%|█████     | 3/6 [32:17<00:07,  2.38s/ url]\n",
      "Dl Completed...:  50%|█████     | 3/6 [32:19<00:07,  2.38s/ url]\n",
      "Dl Completed...:  50%|█████     | 3/6 [32:21<00:07,  2.38s/ url]\n",
      "Dl Completed...:  50%|█████     | 3/6 [32:31<00:07,  2.38s/ url]\n",
      "Dl Completed...:  50%|█████     | 3/6 [32:38<00:07,  2.38s/ url]\n",
      "Dl Completed...:  50%|█████     | 3/6 [32:43<00:07,  2.38s/ url]\n",
      "Dl Completed...:  50%|█████     | 3/6 [32:43<00:07,  2.38s/ url]\n",
      "Dl Completed...:  50%|█████     | 3/6 [32:53<00:07,  2.38s/ url]\n",
      "Dl Completed...:  50%|█████     | 3/6 [33:02<00:07,  2.38s/ url]\n",
      "Dl Completed...:  50%|█████     | 3/6 [33:04<00:07,  2.38s/ url]\n",
      "Dl Completed...:  50%|█████     | 3/6 [33:09<00:07,  2.38s/ url]\n",
      "Dl Completed...:  50%|█████     | 3/6 [33:15<00:07,  2.38s/ url]\n",
      "Dl Completed...:  50%|█████     | 3/6 [33:16<00:07,  2.38s/ url]\n",
      "Dl Completed...:  50%|█████     | 3/6 [33:22<00:07,  2.38s/ url]\n",
      "Dl Completed...:  50%|█████     | 3/6 [33:32<00:07,  2.38s/ url]\n",
      "Dl Completed...:  50%|█████     | 3/6 [33:33<00:07,  2.38s/ url]\n",
      "Dl Completed...:  50%|█████     | 3/6 [33:37<00:07,  2.38s/ url]\n",
      "Dl Completed...:  50%|█████     | 3/6 [33:50<00:07,  2.38s/ url]\n",
      "Dl Completed...:  50%|█████     | 3/6 [33:54<00:07,  2.38s/ url]\n",
      "Dl Completed...:  50%|█████     | 3/6 [33:57<00:07,  2.38s/ url]\n",
      "Dl Completed...:  50%|█████     | 3/6 [34:05<00:07,  2.38s/ url]\n",
      "Dl Completed...:  50%|█████     | 3/6 [34:07<00:07,  2.38s/ url]\n",
      "Dl Completed...:  50%|█████     | 3/6 [34:15<00:07,  2.38s/ url]\n",
      "Dl Completed...:  50%|█████     | 3/6 [34:24<00:07,  2.38s/ url]\n",
      "Dl Completed...:  50%|█████     | 3/6 [34:25<00:07,  2.38s/ url]\n",
      "Dl Completed...:  50%|█████     | 3/6 [34:31<00:07,  2.38s/ url]\n",
      "Dl Completed...:  50%|█████     | 3/6 [34:40<00:07,  2.38s/ url]\n",
      "Dl Completed...:  50%|█████     | 3/6 [34:42<00:07,  2.38s/ url]\n",
      "Dl Completed...:  50%|█████     | 3/6 [34:47<00:07,  2.38s/ url]\n",
      "Dl Completed...:  50%|█████     | 3/6 [34:54<00:07,  2.38s/ url]\n",
      "Dl Completed...:  50%|█████     | 3/6 [35:02<00:07,  2.38s/ url]\n",
      "Dl Completed...:  50%|█████     | 3/6 [35:07<00:07,  2.38s/ url]\n",
      "Dl Completed...:  50%|█████     | 3/6 [35:14<00:07,  2.38s/ url]\n",
      "Dl Completed...:  50%|█████     | 3/6 [35:19<00:07,  2.38s/ url]\n",
      "Dl Completed...:  50%|█████     | 3/6 [35:22<00:07,  2.38s/ url]\n",
      "Dl Completed...:  50%|█████     | 3/6 [35:27<00:07,  2.38s/ url]\n",
      "Dl Completed...:  50%|█████     | 3/6 [35:32<00:07,  2.38s/ url]\n",
      "Dl Completed...:  50%|█████     | 3/6 [35:34<00:07,  2.38s/ url]\n",
      "Dl Completed...:  50%|█████     | 3/6 [35:35<00:07,  2.38s/ url]\n",
      "Dl Completed...:  50%|█████     | 3/6 [35:35<00:07,  2.38s/ url]\n",
      "Dl Completed...:  50%|█████     | 3/6 [35:36<00:07,  2.38s/ url]\n",
      "Dl Completed...:  50%|█████     | 3/6 [35:36<00:07,  2.38s/ url]\n",
      "Dl Completed...:  50%|█████     | 3/6 [35:37<00:07,  2.38s/ url]\n",
      "Dl Completed...:  50%|█████     | 3/6 [35:37<00:07,  2.38s/ url]\n",
      "Dl Completed...:  50%|█████     | 3/6 [35:37<00:07,  2.38s/ url]\n",
      "Dl Completed...:  50%|█████     | 3/6 [35:38<00:07,  2.38s/ url]\n",
      "Dl Completed...:  50%|█████     | 3/6 [35:38<00:07,  2.38s/ url]\n",
      "Dl Completed...:  50%|█████     | 3/6 [35:38<00:07,  2.38s/ url]\n",
      "Dl Completed...:  50%|█████     | 3/6 [35:38<00:07,  2.38s/ url]\n",
      "Dl Completed...:  50%|█████     | 3/6 [35:38<00:07,  2.38s/ url]\n",
      "Dl Completed...:  50%|█████     | 3/6 [35:38<00:07,  2.38s/ url]\n",
      "Dl Completed...:  50%|█████     | 3/6 [35:39<00:07,  2.38s/ url]\n",
      "Dl Completed...:  50%|█████     | 3/6 [35:39<00:07,  2.38s/ url]\n",
      "Dl Completed...:  50%|█████     | 3/6 [35:39<00:07,  2.38s/ url]\n",
      "Dl Completed...:  50%|█████     | 3/6 [35:39<00:07,  2.38s/ url]\n",
      "Dl Completed...:  50%|█████     | 3/6 [35:39<00:07,  2.38s/ url]\n",
      "Dl Completed...:  50%|█████     | 3/6 [35:40<00:07,  2.38s/ url]\n",
      "Dl Completed...:  50%|█████     | 3/6 [35:40<00:07,  2.38s/ url]\n",
      "Dl Completed...:  50%|█████     | 3/6 [35:40<00:07,  2.38s/ url]\n",
      "Dl Completed...:  50%|█████     | 3/6 [35:40<00:07,  2.38s/ url]\n",
      "Dl Completed...:  50%|█████     | 3/6 [35:40<00:07,  2.38s/ url]\n",
      "Dl Completed...:  50%|█████     | 3/6 [35:41<00:07,  2.38s/ url]\n",
      "Dl Completed...:  50%|█████     | 3/6 [35:41<00:07,  2.38s/ url]\n",
      "Dl Completed...:  50%|█████     | 3/6 [35:41<00:07,  2.38s/ url]\n",
      "Dl Completed...:  50%|█████     | 3/6 [35:41<00:07,  2.38s/ url]\n",
      "Dl Completed...:  50%|█████     | 3/6 [35:41<00:07,  2.38s/ url]\n",
      "Dl Completed...:  50%|█████     | 3/6 [35:42<00:07,  2.38s/ url]\n",
      "Dl Completed...:  50%|█████     | 3/6 [35:42<00:07,  2.38s/ url]\n",
      "Dl Completed...:  50%|█████     | 3/6 [35:42<00:07,  2.38s/ url]\n",
      "Dl Completed...:  50%|█████     | 3/6 [35:42<00:07,  2.38s/ url]\n",
      "Dl Completed...:  50%|█████     | 3/6 [35:42<00:07,  2.38s/ url]\n",
      "Dl Completed...:  50%|█████     | 3/6 [35:43<00:07,  2.38s/ url]\n",
      "Dl Completed...:  50%|█████     | 3/6 [35:43<00:07,  2.38s/ url]\n",
      "Dl Completed...:  50%|█████     | 3/6 [35:43<00:07,  2.38s/ url]\n",
      "Dl Completed...:  50%|█████     | 3/6 [35:43<00:07,  2.38s/ url]\n",
      "Dl Completed...:  50%|█████     | 3/6 [35:43<00:07,  2.38s/ url]\n",
      "Dl Completed...:  50%|█████     | 3/6 [35:43<00:07,  2.38s/ url]\n",
      "Dl Completed...:  50%|█████     | 3/6 [35:44<00:07,  2.38s/ url]\n",
      "Dl Completed...:  50%|█████     | 3/6 [35:44<00:07,  2.38s/ url]\n",
      "Dl Completed...:  50%|█████     | 3/6 [35:44<00:07,  2.38s/ url]\n",
      "Dl Completed...:  50%|█████     | 3/6 [35:44<00:07,  2.38s/ url]\n",
      "Dl Completed...:  50%|█████     | 3/6 [35:44<00:07,  2.38s/ url]\n",
      "Dl Completed...:  50%|█████     | 3/6 [35:45<00:07,  2.38s/ url]\n",
      "Dl Completed...:  50%|█████     | 3/6 [35:45<00:07,  2.38s/ url]\n",
      "Dl Completed...:  50%|█████     | 3/6 [35:45<00:07,  2.38s/ url]\n",
      "Dl Completed...:  50%|█████     | 3/6 [35:46<00:07,  2.38s/ url]\n",
      "Dl Completed...:  50%|█████     | 3/6 [35:46<00:07,  2.38s/ url]\n",
      "Dl Completed...:  50%|█████     | 3/6 [35:46<00:07,  2.38s/ url]\n",
      "Dl Completed...:  50%|█████     | 3/6 [35:47<00:07,  2.38s/ url]\n",
      "Dl Completed...:  50%|█████     | 3/6 [35:47<00:07,  2.38s/ url]\n",
      "Dl Completed...:  50%|█████     | 3/6 [35:47<00:07,  2.38s/ url]\n",
      "Dl Completed...:  50%|█████     | 3/6 [35:47<00:07,  2.38s/ url]\n",
      "Dl Completed...:  50%|█████     | 3/6 [35:48<00:07,  2.38s/ url]\n",
      "Dl Completed...:  50%|█████     | 3/6 [35:48<00:07,  2.38s/ url]\n",
      "Dl Completed...:  50%|█████     | 3/6 [35:48<00:07,  2.38s/ url]\n",
      "Dl Completed...:  50%|█████     | 3/6 [35:49<00:07,  2.38s/ url]\n",
      "Dl Completed...:  50%|█████     | 3/6 [35:49<00:07,  2.38s/ url]\n",
      "Dl Completed...:  50%|█████     | 3/6 [35:49<00:07,  2.38s/ url]\n",
      "Dl Completed...:  50%|█████     | 3/6 [35:49<00:07,  2.38s/ url]\n",
      "Dl Completed...:  50%|█████     | 3/6 [35:50<00:07,  2.38s/ url]\n",
      "Dl Completed...:  50%|█████     | 3/6 [35:51<00:07,  2.38s/ url]\n",
      "Dl Completed...:  50%|█████     | 3/6 [35:52<00:07,  2.38s/ url]\n",
      "Dl Completed...:  50%|█████     | 3/6 [35:53<00:07,  2.38s/ url]\n",
      "Dl Completed...:  50%|█████     | 3/6 [35:53<00:07,  2.38s/ url]\n",
      "Dl Completed...:  50%|█████     | 3/6 [35:54<00:07,  2.38s/ url]\n",
      "Dl Completed...:  50%|█████     | 3/6 [35:55<00:07,  2.38s/ url]\n",
      "Dl Completed...:  50%|█████     | 3/6 [35:55<00:07,  2.38s/ url]\n",
      "Dl Completed...:  50%|█████     | 3/6 [35:56<00:07,  2.38s/ url]\n",
      "Dl Completed...:  50%|█████     | 3/6 [35:56<00:07,  2.38s/ url]\n",
      "Dl Completed...:  50%|█████     | 3/6 [35:56<00:07,  2.38s/ url]\n",
      "Dl Completed...:  50%|█████     | 3/6 [35:57<00:07,  2.38s/ url]\n",
      "Dl Completed...:  50%|█████     | 3/6 [35:58<00:07,  2.38s/ url]\n",
      "Dl Completed...:  50%|█████     | 3/6 [35:58<00:07,  2.38s/ url]\n",
      "Dl Completed...:  50%|█████     | 3/6 [35:58<00:07,  2.38s/ url]\n",
      "Dl Completed...:  50%|█████     | 3/6 [35:59<00:07,  2.38s/ url]\n",
      "Dl Completed...:  50%|█████     | 3/6 [35:59<00:07,  2.38s/ url]\n",
      "Dl Completed...:  50%|█████     | 3/6 [35:59<00:07,  2.38s/ url]\n",
      "Dl Completed...:  50%|█████     | 3/6 [36:00<00:07,  2.38s/ url]\n",
      "Dl Completed...:  50%|█████     | 3/6 [36:00<00:07,  2.38s/ url]\n",
      "Dl Completed...:  50%|█████     | 3/6 [36:00<00:07,  2.38s/ url]\n",
      "Dl Completed...:  50%|█████     | 3/6 [36:00<00:07,  2.38s/ url]\n",
      "Dl Completed...:  50%|█████     | 3/6 [36:01<00:07,  2.38s/ url]\n",
      "Dl Completed...:  50%|█████     | 3/6 [36:01<00:07,  2.38s/ url]\n",
      "Dl Completed...:  50%|█████     | 3/6 [36:01<00:07,  2.38s/ url]\n",
      "Dl Completed...:  50%|█████     | 3/6 [36:02<00:07,  2.38s/ url]\n",
      "Dl Completed...:  50%|█████     | 3/6 [36:02<00:07,  2.38s/ url]\n",
      "Dl Completed...:  50%|█████     | 3/6 [36:02<00:07,  2.38s/ url]\n",
      "Dl Completed...:  50%|█████     | 3/6 [36:02<00:07,  2.38s/ url]\n",
      "Dl Completed...:  50%|█████     | 3/6 [36:02<00:07,  2.38s/ url]\n",
      "Dl Completed...:  50%|█████     | 3/6 [36:03<00:07,  2.38s/ url]\n",
      "Dl Completed...:  50%|█████     | 3/6 [36:03<00:07,  2.38s/ url]\n",
      "Dl Completed...:  50%|█████     | 3/6 [36:03<00:07,  2.38s/ url]\n",
      "Dl Completed...:  50%|█████     | 3/6 [36:03<00:07,  2.38s/ url]\n",
      "Dl Completed...:  50%|█████     | 3/6 [36:03<00:07,  2.38s/ url]\n",
      "Dl Completed...:  50%|█████     | 3/6 [36:03<00:07,  2.38s/ url]\n",
      "Dl Completed...:  50%|█████     | 3/6 [36:04<00:07,  2.38s/ url]\n",
      "Dl Completed...:  50%|█████     | 3/6 [36:04<00:07,  2.38s/ url]\n",
      "Dl Completed...:  50%|█████     | 3/6 [36:04<00:07,  2.38s/ url]\n",
      "Dl Completed...:  50%|█████     | 3/6 [36:05<00:07,  2.38s/ url]\n",
      "Dl Completed...:  50%|█████     | 3/6 [36:05<00:07,  2.38s/ url]\n",
      "Dl Completed...:  50%|█████     | 3/6 [36:05<00:07,  2.38s/ url]\n",
      "Dl Completed...:  50%|█████     | 3/6 [36:05<00:07,  2.38s/ url]\n",
      "Dl Completed...:  50%|█████     | 3/6 [36:06<00:07,  2.38s/ url]\n",
      "Dl Completed...:  50%|█████     | 3/6 [36:06<00:07,  2.38s/ url]\n",
      "Dl Completed...:  50%|█████     | 3/6 [36:06<00:07,  2.38s/ url]\n",
      "Dl Completed...:  50%|█████     | 3/6 [36:06<00:07,  2.38s/ url]\n",
      "Dl Completed...:  50%|█████     | 3/6 [36:06<00:07,  2.38s/ url]\n",
      "Dl Completed...:  50%|█████     | 3/6 [36:06<00:07,  2.38s/ url]\n",
      "Dl Completed...:  50%|█████     | 3/6 [36:07<00:07,  2.38s/ url]\n",
      "Dl Completed...:  50%|█████     | 3/6 [36:07<00:07,  2.38s/ url]\n",
      "Dl Completed...:  50%|█████     | 3/6 [36:07<00:07,  2.38s/ url]\n",
      "Dl Completed...:  50%|█████     | 3/6 [36:07<00:07,  2.38s/ url]\n",
      "Dl Completed...:  50%|█████     | 3/6 [36:07<00:07,  2.38s/ url]\n",
      "Dl Completed...:  50%|█████     | 3/6 [36:07<00:07,  2.38s/ url]\n",
      "Dl Completed...:  50%|█████     | 3/6 [36:07<00:07,  2.38s/ url]\n",
      "Dl Completed...:  50%|█████     | 3/6 [36:07<00:07,  2.38s/ url]\n",
      "Dl Completed...:  50%|█████     | 3/6 [36:08<00:07,  2.38s/ url]\n",
      "Dl Completed...:  50%|█████     | 3/6 [36:08<00:07,  2.38s/ url]\n",
      "Dl Completed...:  50%|█████     | 3/6 [36:08<00:07,  2.38s/ url]\n",
      "Dl Completed...:  50%|█████     | 3/6 [36:08<00:07,  2.38s/ url]\n",
      "Dl Completed...:  50%|█████     | 3/6 [36:08<00:07,  2.38s/ url]\n",
      "Dl Completed...:  50%|█████     | 3/6 [36:08<00:07,  2.38s/ url]\n",
      "Dl Completed...:  50%|█████     | 3/6 [36:09<00:07,  2.38s/ url]\n",
      "Dl Completed...:  50%|█████     | 3/6 [36:09<00:07,  2.38s/ url]\n",
      "Dl Completed...:  50%|█████     | 3/6 [36:09<00:07,  2.38s/ url]\n",
      "Dl Completed...:  50%|█████     | 3/6 [36:09<00:07,  2.38s/ url]\n",
      "Dl Completed...:  50%|█████     | 3/6 [36:09<00:07,  2.38s/ url]\n",
      "Dl Completed...:  50%|█████     | 3/6 [36:09<00:07,  2.38s/ url]\n",
      "Dl Completed...:  50%|█████     | 3/6 [36:09<00:07,  2.38s/ url]\n",
      "Dl Completed...:  50%|█████     | 3/6 [36:10<00:07,  2.38s/ url]\n",
      "Dl Completed...:  50%|█████     | 3/6 [36:10<00:07,  2.38s/ url]\n",
      "Dl Completed...:  50%|█████     | 3/6 [36:10<00:07,  2.38s/ url]\n",
      "Dl Completed...:  50%|█████     | 3/6 [36:10<00:07,  2.38s/ url]\n",
      "Dl Completed...:  50%|█████     | 3/6 [36:10<00:07,  2.38s/ url]\n",
      "Dl Completed...:  50%|█████     | 3/6 [36:10<00:07,  2.38s/ url]\n",
      "Dl Completed...:  50%|█████     | 3/6 [36:10<00:07,  2.38s/ url]\n",
      "Dl Completed...:  50%|█████     | 3/6 [36:10<00:07,  2.38s/ url]\n",
      "Dl Completed...:  50%|█████     | 3/6 [36:11<00:07,  2.38s/ url]\n",
      "Dl Completed...:  50%|█████     | 3/6 [36:11<00:07,  2.38s/ url]\n",
      "Dl Completed...:  50%|█████     | 3/6 [36:11<00:07,  2.38s/ url]\n",
      "Dl Completed...:  50%|█████     | 3/6 [36:11<00:07,  2.38s/ url]\n",
      "Dl Completed...:  50%|█████     | 3/6 [36:11<00:07,  2.38s/ url]\n",
      "Dl Completed...:  50%|█████     | 3/6 [36:11<00:07,  2.38s/ url]\n",
      "Dl Completed...:  50%|█████     | 3/6 [36:12<00:07,  2.38s/ url]\n",
      "Dl Completed...:  50%|█████     | 3/6 [36:12<00:07,  2.38s/ url]\n",
      "Dl Completed...:  50%|█████     | 3/6 [36:12<00:07,  2.38s/ url]\n",
      "Dl Completed...:  50%|█████     | 3/6 [36:12<00:07,  2.38s/ url]\n",
      "Dl Completed...:  50%|█████     | 3/6 [36:12<00:07,  2.38s/ url]\n",
      "Dl Completed...:  50%|█████     | 3/6 [36:12<00:07,  2.38s/ url]\n",
      "Dl Completed...:  50%|█████     | 3/6 [36:12<00:07,  2.38s/ url]\n",
      "Dl Completed...:  50%|█████     | 3/6 [36:13<00:07,  2.38s/ url]\n",
      "Dl Completed...:  50%|█████     | 3/6 [36:13<00:07,  2.38s/ url]\n",
      "Dl Completed...:  50%|█████     | 3/6 [36:13<00:07,  2.38s/ url]\n",
      "Dl Completed...:  50%|█████     | 3/6 [36:13<00:07,  2.38s/ url]\n",
      "Dl Completed...:  50%|█████     | 3/6 [36:13<00:07,  2.38s/ url]\n",
      "Dl Completed...:  50%|█████     | 3/6 [36:13<00:07,  2.38s/ url]\n",
      "Dl Completed...:  50%|█████     | 3/6 [36:13<00:07,  2.38s/ url]\n",
      "Dl Completed...:  50%|█████     | 3/6 [36:14<00:07,  2.38s/ url]\n",
      "Dl Completed...:  50%|█████     | 3/6 [36:14<00:07,  2.38s/ url]\n",
      "Dl Completed...:  50%|█████     | 3/6 [36:14<00:07,  2.38s/ url]\n",
      "Dl Completed...:  50%|█████     | 3/6 [36:14<00:07,  2.38s/ url]\n",
      "Dl Completed...:  50%|█████     | 3/6 [36:15<00:07,  2.38s/ url]\n",
      "Dl Completed...:  50%|█████     | 3/6 [36:15<00:07,  2.38s/ url]\n",
      "Dl Completed...:  50%|█████     | 3/6 [36:15<00:07,  2.38s/ url]\n",
      "Dl Completed...:  50%|█████     | 3/6 [36:15<00:07,  2.38s/ url]\n",
      "Dl Completed...:  50%|█████     | 3/6 [36:16<00:07,  2.38s/ url]\n",
      "Dl Completed...:  50%|█████     | 3/6 [36:16<00:07,  2.38s/ url]\n",
      "Dl Completed...:  50%|█████     | 3/6 [36:16<00:07,  2.38s/ url]\n",
      "Dl Completed...:  50%|█████     | 3/6 [36:16<00:07,  2.38s/ url]\n",
      "Dl Completed...:  50%|█████     | 3/6 [36:17<00:07,  2.38s/ url]\n",
      "Dl Completed...:  50%|█████     | 3/6 [36:17<00:07,  2.38s/ url]\n",
      "Dl Completed...:  50%|█████     | 3/6 [36:17<00:07,  2.38s/ url]\n",
      "Dl Completed...:  50%|█████     | 3/6 [36:17<00:07,  2.38s/ url]\n",
      "Dl Completed...:  50%|█████     | 3/6 [36:17<00:07,  2.38s/ url]\n",
      "Dl Completed...:  50%|█████     | 3/6 [36:17<00:07,  2.38s/ url]\n",
      "Dl Completed...:  50%|█████     | 3/6 [36:18<00:07,  2.38s/ url]\n",
      "Dl Completed...:  50%|█████     | 3/6 [36:18<00:07,  2.38s/ url]\n",
      "Dl Completed...:  50%|█████     | 3/6 [36:18<00:07,  2.38s/ url]\n",
      "Dl Completed...:  50%|█████     | 3/6 [36:18<00:07,  2.38s/ url]\n",
      "Dl Completed...:  50%|█████     | 3/6 [36:18<00:07,  2.38s/ url]\n",
      "Dl Completed...:  50%|█████     | 3/6 [36:19<00:07,  2.38s/ url]\n",
      "Dl Completed...:  50%|█████     | 3/6 [36:19<00:07,  2.38s/ url]\n",
      "Dl Completed...:  50%|█████     | 3/6 [36:19<00:07,  2.38s/ url]\n",
      "Dl Completed...:  50%|█████     | 3/6 [36:19<00:07,  2.38s/ url]\n",
      "Dl Completed...:  50%|█████     | 3/6 [36:19<00:07,  2.38s/ url]\n",
      "Dl Completed...:  50%|█████     | 3/6 [36:20<00:07,  2.38s/ url]\n",
      "Dl Completed...:  50%|█████     | 3/6 [36:20<00:07,  2.38s/ url]\n",
      "Dl Completed...:  50%|█████     | 3/6 [36:20<00:07,  2.38s/ url]\n",
      "Dl Completed...:  50%|█████     | 3/6 [36:20<00:07,  2.38s/ url]\n",
      "Dl Completed...:  50%|█████     | 3/6 [36:20<00:07,  2.38s/ url]\n",
      "Dl Completed...:  50%|█████     | 3/6 [36:20<00:07,  2.38s/ url]\n",
      "Dl Completed...:  50%|█████     | 3/6 [36:21<00:07,  2.38s/ url]\n",
      "Dl Completed...:  50%|█████     | 3/6 [36:21<00:07,  2.38s/ url]\n",
      "Dl Completed...:  50%|█████     | 3/6 [36:21<00:07,  2.38s/ url]\n",
      "Dl Completed...:  50%|█████     | 3/6 [36:21<00:07,  2.38s/ url]\n",
      "Dl Completed...:  50%|█████     | 3/6 [36:21<00:07,  2.38s/ url]\n",
      "Dl Completed...:  50%|█████     | 3/6 [36:22<00:07,  2.38s/ url]\n",
      "Dl Completed...:  50%|█████     | 3/6 [36:22<00:07,  2.38s/ url]\n",
      "Dl Completed...:  50%|█████     | 3/6 [36:22<00:07,  2.38s/ url]\n",
      "Dl Completed...:  50%|█████     | 3/6 [36:22<00:07,  2.38s/ url]\n",
      "Dl Completed...:  50%|█████     | 3/6 [36:22<00:07,  2.38s/ url]\n",
      "Dl Completed...:  50%|█████     | 3/6 [36:23<00:07,  2.38s/ url]\n",
      "Dl Completed...:  50%|█████     | 3/6 [36:23<00:07,  2.38s/ url]\n",
      "Dl Completed...:  50%|█████     | 3/6 [36:23<00:07,  2.38s/ url]\n",
      "Dl Completed...:  50%|█████     | 3/6 [36:23<00:07,  2.38s/ url]\n",
      "Dl Completed...:  50%|█████     | 3/6 [36:23<00:07,  2.38s/ url]\n",
      "Dl Completed...:  50%|█████     | 3/6 [36:23<00:07,  2.38s/ url]\n",
      "Dl Completed...:  50%|█████     | 3/6 [36:24<00:07,  2.38s/ url]\n",
      "Dl Completed...:  50%|█████     | 3/6 [36:24<00:07,  2.38s/ url]\n",
      "Dl Completed...:  50%|█████     | 3/6 [36:24<00:07,  2.38s/ url]\n",
      "Dl Completed...:  50%|█████     | 3/6 [36:24<00:07,  2.38s/ url]\n",
      "Dl Completed...:  50%|█████     | 3/6 [36:24<00:07,  2.38s/ url]\n",
      "Dl Completed...:  50%|█████     | 3/6 [36:25<00:07,  2.38s/ url]\n",
      "Dl Completed...:  50%|█████     | 3/6 [36:25<00:07,  2.38s/ url]\n",
      "Dl Completed...:  50%|█████     | 3/6 [36:25<00:07,  2.38s/ url]\n",
      "Dl Completed...:  50%|█████     | 3/6 [36:25<00:07,  2.38s/ url]\n",
      "Dl Completed...:  50%|█████     | 3/6 [36:25<00:07,  2.38s/ url]\n",
      "Dl Completed...:  50%|█████     | 3/6 [36:26<00:07,  2.38s/ url]\n",
      "Dl Completed...:  50%|█████     | 3/6 [36:26<00:07,  2.38s/ url]\n",
      "Dl Completed...:  50%|█████     | 3/6 [36:26<00:07,  2.38s/ url]\n",
      "Dl Completed...:  50%|█████     | 3/6 [36:26<00:07,  2.38s/ url]\n",
      "Dl Completed...:  50%|█████     | 3/6 [36:27<00:07,  2.38s/ url]\n",
      "Dl Completed...:  50%|█████     | 3/6 [36:27<00:07,  2.38s/ url]\n",
      "Dl Completed...:  50%|█████     | 3/6 [36:27<00:07,  2.38s/ url]\n",
      "Dl Completed...:  50%|█████     | 3/6 [36:27<00:07,  2.38s/ url]\n",
      "Dl Completed...:  50%|█████     | 3/6 [36:27<00:07,  2.38s/ url]\n",
      "Dl Completed...:  50%|█████     | 3/6 [36:28<00:07,  2.38s/ url]\n",
      "Dl Completed...:  50%|█████     | 3/6 [36:28<00:07,  2.38s/ url]\n",
      "Dl Completed...:  50%|█████     | 3/6 [36:28<00:07,  2.38s/ url]\n",
      "Dl Completed...:  50%|█████     | 3/6 [36:29<00:07,  2.38s/ url]\n",
      "\u001b[A"
     ]
    },
    {
     "ename": "",
     "evalue": "",
     "output_type": "error",
     "traceback": [
      "\u001b[1;31mThe Kernel crashed while executing code in the the current cell or a previous cell. Please review the code in the cell(s) to identify a possible cause of the failure. Click <a href='https://aka.ms/vscodeJupyterKernelCrash'>here</a> for more info. View Jupyter <a href='command:jupyter.viewOutput'>log</a> for further details."
     ]
    }
   ],
   "source": [
    "directory = r'C:\\Users\\kadal\\Documents\\Sem-6\\DL'\n",
    "pcam, pcam_info = tdfs.load(\"patch_camelyon\", with_info=True,data_dir = directory)\n",
    "print(pcam_info)"
   ]
  },
  {
   "cell_type": "code",
   "execution_count": null,
   "metadata": {},
   "outputs": [],
   "source": []
  },
  {
   "cell_type": "markdown",
   "metadata": {},
   "source": [
    "Practice Assignment - 3 Cat /dog dataset"
   ]
  },
  {
   "cell_type": "code",
   "execution_count": 2,
   "metadata": {},
   "outputs": [
    {
     "name": "stderr",
     "output_type": "stream",
     "text": [
      "Copying files: 25002 files [04:27, 93.41 files/s] \n"
     ]
    }
   ],
   "source": [
    "#21BAI1479\n",
    "import splitfolders\n",
    "input=r'C:\\Users\\kadal\\Documents\\Sem-6\\DL\\Datasets\\PetImages'\n",
    "splitfolders.ratio(input,output='dataset',seed=42,ratio=(.6,.4))"
   ]
  },
  {
   "cell_type": "code",
   "execution_count": 3,
   "metadata": {},
   "outputs": [],
   "source": [
    "#21BAI1479\n",
    "import tensorflow as tf\n",
    "from tensorflow import keras\n",
    "from keras import models\n",
    "from keras import layers\n",
    "from tensorflow.keras.preprocessing.image import ImageDataGenerator"
   ]
  },
  {
   "cell_type": "code",
   "execution_count": 4,
   "metadata": {},
   "outputs": [],
   "source": [
    "#21BAI1479\n",
    "model2 = models.Sequential()\n",
    "model2.add(layers.Dense(512,activation ='relu'))\n",
    "model2.add(layers.Flatten())\n",
    "model2.add(layers.Dense(1,activation = 'sigmoid'))\n"
   ]
  },
  {
   "cell_type": "code",
   "execution_count": 5,
   "metadata": {},
   "outputs": [],
   "source": [
    "#21BAI1479\n",
    "model2.build(input_shape=(None,100,100,3))"
   ]
  },
  {
   "cell_type": "code",
   "execution_count": 6,
   "metadata": {},
   "outputs": [],
   "source": [
    "#21BAI1479\n",
    "model2.compile(optimizer = 'rmsprop',loss = 'binary_crossentropy',metrics = ['accuracy'])"
   ]
  },
  {
   "cell_type": "code",
   "execution_count": 7,
   "metadata": {},
   "outputs": [],
   "source": [
    "#21BAI1479\n",
    "train_datagen = ImageDataGenerator(rescale=1./255)\n",
    "test_datagen = ImageDataGenerator(rescale=1./255)"
   ]
  },
  {
   "cell_type": "code",
   "execution_count": 8,
   "metadata": {},
   "outputs": [
    {
     "name": "stdout",
     "output_type": "stream",
     "text": [
      "Found 14998 images belonging to 2 classes.\n",
      "Found 10002 images belonging to 2 classes.\n",
      "Model: \"sequential\"\n",
      "_________________________________________________________________\n",
      " Layer (type)                Output Shape              Param #   \n",
      "=================================================================\n",
      " dense (Dense)               (None, 100, 100, 512)     2048      \n",
      "                                                                 \n",
      " flatten (Flatten)           (None, 5120000)           0         \n",
      "                                                                 \n",
      " dense_1 (Dense)             (None, 1)                 5120001   \n",
      "                                                                 \n",
      "=================================================================\n",
      "Total params: 5122049 (19.54 MB)\n",
      "Trainable params: 5122049 (19.54 MB)\n",
      "Non-trainable params: 0 (0.00 Byte)\n",
      "_________________________________________________________________\n"
     ]
    }
   ],
   "source": [
    "#21BAI1479\n",
    "train_generator = train_datagen.flow_from_directory(\n",
    "    r'C:\\Users\\kadal\\Documents\\Sem-6\\DL\\dataset\\train',\n",
    "    target_size=(100, 100),\n",
    "    batch_size= 32,\n",
    "    class_mode='binary' \n",
    ")\n",
    "\n",
    "validation_generator = test_datagen.flow_from_directory(\n",
    "    r'C:\\Users\\kadal\\Documents\\Sem-6\\DL\\dataset\\val',\n",
    "    target_size=(100, 100),\n",
    "    batch_size=32,\n",
    "    class_mode='binary'\n",
    ")\n",
    "model2.summary()"
   ]
  },
  {
   "cell_type": "code",
   "execution_count": 9,
   "metadata": {},
   "outputs": [
    {
     "name": "stdout",
     "output_type": "stream",
     "text": [
      "Epoch 1/2\n",
      "  1/469 [..............................] - ETA: 12:21 - loss: 0.6839 - accuracy: 0.5938"
     ]
    },
    {
     "name": "stderr",
     "output_type": "stream",
     "text": [
      "c:\\Users\\kadal\\AppData\\Local\\Programs\\Python\\Python311\\Lib\\site-packages\\PIL\\TiffImagePlugin.py:864: UserWarning: Truncated File Read\n",
      "  warnings.warn(str(msg))\n"
     ]
    },
    {
     "name": "stdout",
     "output_type": "stream",
     "text": [
      "286/469 [=================>............] - ETA: 2:21 - loss: 2.7813 - accuracy: 0.5936"
     ]
    },
    {
     "ename": "UnknownError",
     "evalue": "Graph execution error:\n\nUnidentifiedImageError: cannot identify image file <_io.BytesIO object at 0x00000273B7E1A250>\nTraceback (most recent call last):\n\n  File \"c:\\Users\\kadal\\AppData\\Local\\Programs\\Python\\Python311\\Lib\\site-packages\\tensorflow\\python\\ops\\script_ops.py\", line 268, in __call__\n    ret = func(*args)\n          ^^^^^^^^^^^\n\n  File \"c:\\Users\\kadal\\AppData\\Local\\Programs\\Python\\Python311\\Lib\\site-packages\\tensorflow\\python\\autograph\\impl\\api.py\", line 643, in wrapper\n    return func(*args, **kwargs)\n           ^^^^^^^^^^^^^^^^^^^^^\n\n  File \"c:\\Users\\kadal\\AppData\\Local\\Programs\\Python\\Python311\\Lib\\site-packages\\tensorflow\\python\\data\\ops\\from_generator_op.py\", line 198, in generator_py_func\n    values = next(generator_state.get_iterator(iterator_id))\n             ^^^^^^^^^^^^^^^^^^^^^^^^^^^^^^^^^^^^^^^^^^^^^^^\n\n  File \"c:\\Users\\kadal\\AppData\\Local\\Programs\\Python\\Python311\\Lib\\site-packages\\keras\\src\\engine\\data_adapter.py\", line 917, in wrapped_generator\n    for data in generator_fn():\n\n  File \"c:\\Users\\kadal\\AppData\\Local\\Programs\\Python\\Python311\\Lib\\site-packages\\keras\\src\\engine\\data_adapter.py\", line 1064, in generator_fn\n    yield x[i]\n          ~^^^\n\n  File \"c:\\Users\\kadal\\AppData\\Local\\Programs\\Python\\Python311\\Lib\\site-packages\\keras\\src\\preprocessing\\image.py\", line 116, in __getitem__\n    return self._get_batches_of_transformed_samples(index_array)\n           ^^^^^^^^^^^^^^^^^^^^^^^^^^^^^^^^^^^^^^^^^^^^^^^^^^^^^\n\n  File \"c:\\Users\\kadal\\AppData\\Local\\Programs\\Python\\Python311\\Lib\\site-packages\\keras\\src\\preprocessing\\image.py\", line 370, in _get_batches_of_transformed_samples\n    img = image_utils.load_img(\n          ^^^^^^^^^^^^^^^^^^^^^\n\n  File \"c:\\Users\\kadal\\AppData\\Local\\Programs\\Python\\Python311\\Lib\\site-packages\\keras\\src\\utils\\image_utils.py\", line 423, in load_img\n    img = pil_image.open(io.BytesIO(f.read()))\n          ^^^^^^^^^^^^^^^^^^^^^^^^^^^^^^^^^^^^\n\n  File \"c:\\Users\\kadal\\AppData\\Local\\Programs\\Python\\Python311\\Lib\\site-packages\\PIL\\Image.py\", line 3298, in open\n    raise UnidentifiedImageError(msg)\n\nPIL.UnidentifiedImageError: cannot identify image file <_io.BytesIO object at 0x00000273B7E1A250>\n\n\n\t [[{{node PyFunc}}]]\n\t [[IteratorGetNext]] [Op:__inference_train_function_821]",
     "output_type": "error",
     "traceback": [
      "\u001b[1;31m---------------------------------------------------------------------------\u001b[0m",
      "\u001b[1;31mUnknownError\u001b[0m                              Traceback (most recent call last)",
      "Cell \u001b[1;32mIn[9], line 1\u001b[0m\n\u001b[1;32m----> 1\u001b[0m \u001b[43mmodel2\u001b[49m\u001b[38;5;241;43m.\u001b[39;49m\u001b[43mfit\u001b[49m\u001b[43m(\u001b[49m\n\u001b[0;32m      2\u001b[0m \u001b[43m    \u001b[49m\u001b[43mtrain_generator\u001b[49m\u001b[43m,\u001b[49m\n\u001b[0;32m      3\u001b[0m \u001b[43m    \u001b[49m\u001b[43mepochs\u001b[49m\u001b[38;5;241;43m=\u001b[39;49m\u001b[43m \u001b[49m\u001b[38;5;241;43m2\u001b[39;49m\u001b[43m,\u001b[49m\n\u001b[0;32m      4\u001b[0m \u001b[43m    \u001b[49m\u001b[43mvalidation_data\u001b[49m\u001b[38;5;241;43m=\u001b[39;49m\u001b[43mvalidation_generator\u001b[49m\u001b[43m,\u001b[49m\n\u001b[0;32m      5\u001b[0m \u001b[43m    \u001b[49m\u001b[43mvalidation_steps\u001b[49m\u001b[38;5;241;43m=\u001b[39;49m\u001b[38;5;241;43m50\u001b[39;49m\n\u001b[0;32m      6\u001b[0m \u001b[43m)\u001b[49m\n",
      "File \u001b[1;32mc:\\Users\\kadal\\AppData\\Local\\Programs\\Python\\Python311\\Lib\\site-packages\\keras\\src\\utils\\traceback_utils.py:70\u001b[0m, in \u001b[0;36mfilter_traceback.<locals>.error_handler\u001b[1;34m(*args, **kwargs)\u001b[0m\n\u001b[0;32m     67\u001b[0m     filtered_tb \u001b[38;5;241m=\u001b[39m _process_traceback_frames(e\u001b[38;5;241m.\u001b[39m__traceback__)\n\u001b[0;32m     68\u001b[0m     \u001b[38;5;66;03m# To get the full stack trace, call:\u001b[39;00m\n\u001b[0;32m     69\u001b[0m     \u001b[38;5;66;03m# `tf.debugging.disable_traceback_filtering()`\u001b[39;00m\n\u001b[1;32m---> 70\u001b[0m     \u001b[38;5;28;01mraise\u001b[39;00m e\u001b[38;5;241m.\u001b[39mwith_traceback(filtered_tb) \u001b[38;5;28;01mfrom\u001b[39;00m \u001b[38;5;28;01mNone\u001b[39;00m\n\u001b[0;32m     71\u001b[0m \u001b[38;5;28;01mfinally\u001b[39;00m:\n\u001b[0;32m     72\u001b[0m     \u001b[38;5;28;01mdel\u001b[39;00m filtered_tb\n",
      "File \u001b[1;32mc:\\Users\\kadal\\AppData\\Local\\Programs\\Python\\Python311\\Lib\\site-packages\\tensorflow\\python\\eager\\execute.py:53\u001b[0m, in \u001b[0;36mquick_execute\u001b[1;34m(op_name, num_outputs, inputs, attrs, ctx, name)\u001b[0m\n\u001b[0;32m     51\u001b[0m \u001b[38;5;28;01mtry\u001b[39;00m:\n\u001b[0;32m     52\u001b[0m   ctx\u001b[38;5;241m.\u001b[39mensure_initialized()\n\u001b[1;32m---> 53\u001b[0m   tensors \u001b[38;5;241m=\u001b[39m pywrap_tfe\u001b[38;5;241m.\u001b[39mTFE_Py_Execute(ctx\u001b[38;5;241m.\u001b[39m_handle, device_name, op_name,\n\u001b[0;32m     54\u001b[0m                                       inputs, attrs, num_outputs)\n\u001b[0;32m     55\u001b[0m \u001b[38;5;28;01mexcept\u001b[39;00m core\u001b[38;5;241m.\u001b[39m_NotOkStatusException \u001b[38;5;28;01mas\u001b[39;00m e:\n\u001b[0;32m     56\u001b[0m   \u001b[38;5;28;01mif\u001b[39;00m name \u001b[38;5;129;01mis\u001b[39;00m \u001b[38;5;129;01mnot\u001b[39;00m \u001b[38;5;28;01mNone\u001b[39;00m:\n",
      "\u001b[1;31mUnknownError\u001b[0m: Graph execution error:\n\nUnidentifiedImageError: cannot identify image file <_io.BytesIO object at 0x00000273B7E1A250>\nTraceback (most recent call last):\n\n  File \"c:\\Users\\kadal\\AppData\\Local\\Programs\\Python\\Python311\\Lib\\site-packages\\tensorflow\\python\\ops\\script_ops.py\", line 268, in __call__\n    ret = func(*args)\n          ^^^^^^^^^^^\n\n  File \"c:\\Users\\kadal\\AppData\\Local\\Programs\\Python\\Python311\\Lib\\site-packages\\tensorflow\\python\\autograph\\impl\\api.py\", line 643, in wrapper\n    return func(*args, **kwargs)\n           ^^^^^^^^^^^^^^^^^^^^^\n\n  File \"c:\\Users\\kadal\\AppData\\Local\\Programs\\Python\\Python311\\Lib\\site-packages\\tensorflow\\python\\data\\ops\\from_generator_op.py\", line 198, in generator_py_func\n    values = next(generator_state.get_iterator(iterator_id))\n             ^^^^^^^^^^^^^^^^^^^^^^^^^^^^^^^^^^^^^^^^^^^^^^^\n\n  File \"c:\\Users\\kadal\\AppData\\Local\\Programs\\Python\\Python311\\Lib\\site-packages\\keras\\src\\engine\\data_adapter.py\", line 917, in wrapped_generator\n    for data in generator_fn():\n\n  File \"c:\\Users\\kadal\\AppData\\Local\\Programs\\Python\\Python311\\Lib\\site-packages\\keras\\src\\engine\\data_adapter.py\", line 1064, in generator_fn\n    yield x[i]\n          ~^^^\n\n  File \"c:\\Users\\kadal\\AppData\\Local\\Programs\\Python\\Python311\\Lib\\site-packages\\keras\\src\\preprocessing\\image.py\", line 116, in __getitem__\n    return self._get_batches_of_transformed_samples(index_array)\n           ^^^^^^^^^^^^^^^^^^^^^^^^^^^^^^^^^^^^^^^^^^^^^^^^^^^^^\n\n  File \"c:\\Users\\kadal\\AppData\\Local\\Programs\\Python\\Python311\\Lib\\site-packages\\keras\\src\\preprocessing\\image.py\", line 370, in _get_batches_of_transformed_samples\n    img = image_utils.load_img(\n          ^^^^^^^^^^^^^^^^^^^^^\n\n  File \"c:\\Users\\kadal\\AppData\\Local\\Programs\\Python\\Python311\\Lib\\site-packages\\keras\\src\\utils\\image_utils.py\", line 423, in load_img\n    img = pil_image.open(io.BytesIO(f.read()))\n          ^^^^^^^^^^^^^^^^^^^^^^^^^^^^^^^^^^^^\n\n  File \"c:\\Users\\kadal\\AppData\\Local\\Programs\\Python\\Python311\\Lib\\site-packages\\PIL\\Image.py\", line 3298, in open\n    raise UnidentifiedImageError(msg)\n\nPIL.UnidentifiedImageError: cannot identify image file <_io.BytesIO object at 0x00000273B7E1A250>\n\n\n\t [[{{node PyFunc}}]]\n\t [[IteratorGetNext]] [Op:__inference_train_function_821]"
     ]
    }
   ],
   "source": [
    "#21BAI1479\n",
    "model2.fit(\n",
    "    train_generator,\n",
    "    epochs= 2,\n",
    "    validation_data=validation_generator,\n",
    "    validation_steps=50\n",
    ")"
   ]
  },
  {
   "cell_type": "code",
   "execution_count": 10,
   "metadata": {},
   "outputs": [],
   "source": [
    "from PIL import Image\n",
    "\n",
    "def load_image(image_path):\n",
    "    try:\n",
    "        img = Image.open(image_path)\n",
    "        return img\n",
    "    except (PIL.UnidentifiedImageError, OSError) as e:\n",
    "        print(f\"Error loading image {image_path}: {e}\")\n",
    "        return None\n"
   ]
  },
  {
   "cell_type": "code",
   "execution_count": null,
   "metadata": {},
   "outputs": [],
   "source": [
    "model1.fit(train_data,train_label,epochs = 5,batch_size=128)"
   ]
  }
 ],
 "metadata": {
  "kernelspec": {
   "display_name": "Python 3",
   "language": "python",
   "name": "python3"
  },
  "language_info": {
   "codemirror_mode": {
    "name": "ipython",
    "version": 3
   },
   "file_extension": ".py",
   "mimetype": "text/x-python",
   "name": "python",
   "nbconvert_exporter": "python",
   "pygments_lexer": "ipython3",
   "version": "3.11.3"
  }
 },
 "nbformat": 4,
 "nbformat_minor": 2
}
