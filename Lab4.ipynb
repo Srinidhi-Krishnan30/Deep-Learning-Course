{
 "cells": [
  {
   "cell_type": "markdown",
   "metadata": {},
   "source": [
    "Lab Assesment - 4 Convolution Neural Networks"
   ]
  },
  {
   "cell_type": "markdown",
   "metadata": {},
   "source": [
    "Multiple models with different Kernel sizes, presence and absesnce of padding and varying number of neurons have been considered and compared to evaluate the best hyperparameters for the given CNN archetecture"
   ]
  },
  {
   "cell_type": "code",
   "execution_count": null,
   "metadata": {},
   "outputs": [],
   "source": [
    "#21BAI1479\n",
    "Normal Model - No padding , 32 neurons , stride = 1 , kernel size = 5x5 "
   ]
  },
  {
   "cell_type": "code",
   "execution_count": 1,
   "metadata": {},
   "outputs": [],
   "source": [
    "#21BAI1479\n",
    "import numpy\n",
    "from keras.datasets import mnist\n",
    "from keras.models import Sequential\n",
    "from keras.layers import Dense,Dropout,Flatten,Conv2D,MaxPooling2D,AveragePooling2D\n",
    "import matplotlib.pyplot as plt\n",
    "from tensorflow.keras.utils import to_categorical,load_img,img_to_array\n",
    "\n",
    "seed = 7\n",
    "numpy.random.seed(seed)"
   ]
  },
  {
   "cell_type": "code",
   "execution_count": 2,
   "metadata": {},
   "outputs": [],
   "source": [
    "#21BAI1479\n",
    "(x_train, y_train), (x_test, y_test) = mnist.load_data() \n",
    "x_train = x_train.reshape(x_train.shape[0], 28, 28,1).astype( 'float32' ) \n",
    "x_test = x_test.reshape(x_test.shape[0], 28, 28,1).astype( 'float32' ) \n",
    "x_train = x_train / 255 \n",
    "x_test = x_test / 255 \n"
   ]
  },
  {
   "cell_type": "code",
   "execution_count": 31,
   "metadata": {},
   "outputs": [],
   "source": [
    "#21BAI1479\n",
    "y_train = to_categorical(y_train) \n",
    "y_test = to_categorical(y_test) \n",
    "num_classes = y_test.shape[1] \n",
    "(x_train, y_train1), (x_test, y_test1) = mnist.load_data() \n",
    "\n",
    "\n",
    "def baseline_model(): \n",
    "    model = Sequential() \n",
    "    model.add(Conv2D(32, (5, 5), padding= 'valid' ,strides=(1,1), input_shape=( 28, 28,1), \n",
    "    activation= 'relu' )) \n",
    "    model.add(MaxPooling2D(pool_size=(2, 2))) \n",
    "    model.add(Dropout(0.2)) \n",
    "    model.add(Flatten()) \n",
    "    model.add(Dense(1152, activation= 'relu' )) \n",
    "    \n",
    "    model.add(Dense(128, activation= 'relu' )) \n",
    "    model.add(Dense(10, activation= 'softmax' )) \n",
    "    model.compile(loss= 'categorical_crossentropy' , optimizer= 'adam' , metrics=[ 'accuracy' ]) \n",
    "    return model\n"
   ]
  },
  {
   "cell_type": "code",
   "execution_count": 19,
   "metadata": {},
   "outputs": [
    {
     "name": "stdout",
     "output_type": "stream",
     "text": [
      "Epoch 1/5\n",
      "300/300 - 31s - loss: 3.0242 - accuracy: 0.8772 - val_loss: 0.1009 - val_accuracy: 0.9715 - 31s/epoch - 105ms/step\n",
      "Epoch 2/5\n",
      "300/300 - 30s - loss: 0.0853 - accuracy: 0.9756 - val_loss: 0.0811 - val_accuracy: 0.9761 - 30s/epoch - 99ms/step\n",
      "Epoch 3/5\n",
      "300/300 - 30s - loss: 0.0526 - accuracy: 0.9834 - val_loss: 0.0677 - val_accuracy: 0.9807 - 30s/epoch - 101ms/step\n",
      "Epoch 4/5\n",
      "300/300 - 36s - loss: 0.0355 - accuracy: 0.9890 - val_loss: 0.0692 - val_accuracy: 0.9827 - 36s/epoch - 119ms/step\n",
      "Epoch 5/5\n",
      "300/300 - 37s - loss: 0.0295 - accuracy: 0.9905 - val_loss: 0.0685 - val_accuracy: 0.9835 - 37s/epoch - 124ms/step\n",
      "CNN Error: 1.65%\n"
     ]
    }
   ],
   "source": [
    "#21BAI1479\n",
    "model = baseline_model() \n",
    "model.fit(x_train, y_train, validation_data=(x_test, y_test), epochs=5, batch_size=200, \n",
    "verbose=2) \n",
    "scores = model.evaluate(x_test, y_test, verbose=0) \n",
    "print(\"CNN Error: %.2f%%\" % (100-scores[1]*100)) \n"
   ]
  },
  {
   "cell_type": "markdown",
   "metadata": {},
   "source": [
    "Normal Model -  padding present , 32 neurons , stride = 2 , kernel size = 5x5 MaxPooling size = 2,2"
   ]
  },
  {
   "cell_type": "code",
   "execution_count": 20,
   "metadata": {},
   "outputs": [],
   "source": [
    "#21BAI1479\n",
    "def model1():\n",
    "    model = Sequential()\n",
    "    model.add(Conv2D(32,(5,5),padding = 'same',strides = (2,2),input_shape = (28,28,1),activation = 'relu'))\n",
    "    model.add(MaxPooling2D(pool_size=(2, 2))) \n",
    "    model.add(Dropout(0.2)) \n",
    "    model.add(Flatten()) \n",
    "    model.add(Dense(1152, activation= 'relu' )) \n",
    "    model.add(Dense(128, activation= 'relu' )) \n",
    "    model.add(Dense(10, activation= 'softmax' )) \n",
    "    model.compile(loss= 'categorical_crossentropy' , optimizer= 'adam' , metrics=[ 'accuracy' ]) \n",
    "    return model"
   ]
  },
  {
   "cell_type": "code",
   "execution_count": 21,
   "metadata": {},
   "outputs": [
    {
     "name": "stdout",
     "output_type": "stream",
     "text": [
      "Epoch 1/5\n",
      "300/300 - 14s - loss: 1.3710 - accuracy: 0.8548 - val_loss: 0.1128 - val_accuracy: 0.9643 - 14s/epoch - 47ms/step\n",
      "Epoch 2/5\n",
      "300/300 - 13s - loss: 0.1183 - accuracy: 0.9653 - val_loss: 0.0792 - val_accuracy: 0.9759 - 13s/epoch - 42ms/step\n",
      "Epoch 3/5\n",
      "300/300 - 12s - loss: 0.0768 - accuracy: 0.9768 - val_loss: 0.0623 - val_accuracy: 0.9800 - 12s/epoch - 40ms/step\n",
      "Epoch 4/5\n",
      "300/300 - 12s - loss: 0.0589 - accuracy: 0.9821 - val_loss: 0.0646 - val_accuracy: 0.9801 - 12s/epoch - 39ms/step\n",
      "Epoch 5/5\n",
      "300/300 - 11s - loss: 0.0469 - accuracy: 0.9850 - val_loss: 0.0549 - val_accuracy: 0.9828 - 11s/epoch - 38ms/step\n",
      "CNN Error: 1.72%\n"
     ]
    }
   ],
   "source": [
    "#21BAI1479\n",
    "model = model1() \n",
    "model.fit(x_train, y_train, validation_data=(x_test, y_test), epochs=5, batch_size=200, \n",
    "verbose=2) \n",
    "scores = model.evaluate(x_test, y_test, verbose=0) \n",
    "print(\"CNN Error: %.2f%%\" % (100-scores[1]*100)) \n"
   ]
  },
  {
   "cell_type": "markdown",
   "metadata": {},
   "source": [
    "Normal Model -  padding present , 32 neurons , stride = 4 , kernel size = 5x5 MaxPooling size = 2,2"
   ]
  },
  {
   "cell_type": "code",
   "execution_count": 22,
   "metadata": {},
   "outputs": [],
   "source": [
    "#21BAI1479\n",
    "def model2():\n",
    "    model = Sequential()\n",
    "    model.add(Conv2D(32,(5,5),padding = 'same',strides = (4,4),input_shape = (28,28,1),activation = 'relu'))\n",
    "    model.add(MaxPooling2D(pool_size=(2, 2))) \n",
    "    model.add(Dropout(0.2)) \n",
    "    model.add(Flatten()) \n",
    "    model.add(Dense(1152, activation= 'relu' )) \n",
    "    model.add(Dense(128, activation= 'relu' )) \n",
    "    model.add(Dense(10, activation= 'softmax' )) \n",
    "    model.compile(loss= 'categorical_crossentropy' , optimizer= 'adam' , metrics=[ 'accuracy' ]) \n",
    "    return model"
   ]
  },
  {
   "cell_type": "code",
   "execution_count": 23,
   "metadata": {},
   "outputs": [
    {
     "name": "stdout",
     "output_type": "stream",
     "text": [
      "Epoch 1/5\n",
      "300/300 - 5s - loss: 1.2504 - accuracy: 0.7693 - val_loss: 0.2334 - val_accuracy: 0.9266 - 5s/epoch - 18ms/step\n",
      "Epoch 2/5\n",
      "300/300 - 4s - loss: 0.2637 - accuracy: 0.9157 - val_loss: 0.1523 - val_accuracy: 0.9526 - 4s/epoch - 13ms/step\n",
      "Epoch 3/5\n",
      "300/300 - 4s - loss: 0.1968 - accuracy: 0.9365 - val_loss: 0.1407 - val_accuracy: 0.9529 - 4s/epoch - 14ms/step\n",
      "Epoch 4/5\n",
      "300/300 - 4s - loss: 0.1617 - accuracy: 0.9472 - val_loss: 0.1122 - val_accuracy: 0.9667 - 4s/epoch - 13ms/step\n",
      "Epoch 5/5\n",
      "300/300 - 4s - loss: 0.1369 - accuracy: 0.9541 - val_loss: 0.1002 - val_accuracy: 0.9689 - 4s/epoch - 13ms/step\n",
      "CNN Error: 3.11%\n"
     ]
    }
   ],
   "source": [
    "#21BAI1479\n",
    "model = model2() \n",
    "model.fit(x_train, y_train, validation_data=(x_test, y_test), epochs=5, batch_size=200, \n",
    "verbose=2) \n",
    "scores = model.evaluate(x_test, y_test, verbose=0) \n",
    "print(\"CNN Error: %.2f%%\" % (100-scores[1]*100)) \n"
   ]
  },
  {
   "cell_type": "markdown",
   "metadata": {},
   "source": []
  },
  {
   "cell_type": "markdown",
   "metadata": {},
   "source": [
    "Normal Model -  padding present , 32 neurons , stride = 4 , kernel size = 3x3 MaxPooling size = 2,2"
   ]
  },
  {
   "cell_type": "code",
   "execution_count": 25,
   "metadata": {},
   "outputs": [],
   "source": [
    "#21BAI1479\n",
    "def model3():\n",
    "    model = Sequential()\n",
    "    model.add(Conv2D(32,(3,3),padding = 'same',strides = (4,4),input_shape = (28,28,1),activation = 'relu'))\n",
    "    model.add(MaxPooling2D(pool_size=(2, 2))) \n",
    "    model.add(Dropout(0.2)) \n",
    "    model.add(Flatten()) \n",
    "    model.add(Dense(1152, activation= 'relu' )) \n",
    "    model.add(Dense(128, activation= 'relu' )) \n",
    "    model.add(Dense(10, activation= 'softmax' )) \n",
    "    model.compile(loss= 'categorical_crossentropy' , optimizer= 'adam' , metrics=[ 'accuracy' ]) \n",
    "    return model"
   ]
  },
  {
   "cell_type": "code",
   "execution_count": 26,
   "metadata": {},
   "outputs": [
    {
     "name": "stdout",
     "output_type": "stream",
     "text": [
      "Epoch 1/5\n",
      "300/300 - 5s - loss: 1.7247 - accuracy: 0.6981 - val_loss: 0.4416 - val_accuracy: 0.8558 - 5s/epoch - 17ms/step\n",
      "Epoch 2/5\n",
      "300/300 - 4s - loss: 0.4801 - accuracy: 0.8429 - val_loss: 0.3365 - val_accuracy: 0.8905 - 4s/epoch - 12ms/step\n",
      "Epoch 3/5\n",
      "300/300 - 4s - loss: 0.3880 - accuracy: 0.8739 - val_loss: 0.3030 - val_accuracy: 0.9042 - 4s/epoch - 12ms/step\n",
      "Epoch 4/5\n",
      "300/300 - 4s - loss: 0.3359 - accuracy: 0.8874 - val_loss: 0.2544 - val_accuracy: 0.9184 - 4s/epoch - 12ms/step\n",
      "Epoch 5/5\n",
      "300/300 - 4s - loss: 0.3045 - accuracy: 0.8990 - val_loss: 0.2242 - val_accuracy: 0.9275 - 4s/epoch - 12ms/step\n",
      "CNN Error: 7.25%\n"
     ]
    }
   ],
   "source": [
    "#21BAI1479\n",
    "model = model3() \n",
    "model.fit(x_train, y_train, validation_data=(x_test, y_test), epochs=5, batch_size=200, \n",
    "verbose=2) \n",
    "scores = model.evaluate(x_test, y_test, verbose=0) \n",
    "print(\"CNN Error: %.2f%%\" % (100-scores[1]*100)) \n"
   ]
  },
  {
   "cell_type": "markdown",
   "metadata": {},
   "source": [
    "Normal Model -  padding present , 32 neurons , stride = 4 , kernel size = 3x3 MaxPooling size = 4,4"
   ]
  },
  {
   "cell_type": "code",
   "execution_count": 28,
   "metadata": {},
   "outputs": [],
   "source": [
    "#21BAI1479\n",
    "def model4():\n",
    "    model = Sequential()\n",
    "    model.add(Conv2D(32,(3,3),padding = 'same',strides = (4,4),input_shape = (28,28,1),activation = 'relu'))\n",
    "    model.add(MaxPooling2D(pool_size=(4, 4))) \n",
    "    model.add(Dropout(0.2)) \n",
    "    model.add(Flatten()) \n",
    "    model.add(Dense(1152, activation= 'relu' )) \n",
    "    model.add(Dense(128, activation= 'relu' )) \n",
    "    model.add(Dense(10, activation= 'softmax' )) \n",
    "    model.compile(loss= 'categorical_crossentropy' , optimizer= 'adam' , metrics=[ 'accuracy' ]) \n",
    "    return model"
   ]
  },
  {
   "cell_type": "code",
   "execution_count": 29,
   "metadata": {},
   "outputs": [
    {
     "name": "stdout",
     "output_type": "stream",
     "text": [
      "Epoch 1/5\n",
      "300/300 - 3s - loss: 2.0075 - accuracy: 0.3518 - val_loss: 1.5553 - val_accuracy: 0.4438 - 3s/epoch - 12ms/step\n",
      "Epoch 2/5\n",
      "300/300 - 2s - loss: 1.5869 - accuracy: 0.4212 - val_loss: 1.4528 - val_accuracy: 0.4748 - 2s/epoch - 7ms/step\n",
      "Epoch 3/5\n",
      "300/300 - 2s - loss: 1.5170 - accuracy: 0.4504 - val_loss: 1.3932 - val_accuracy: 0.4983 - 2s/epoch - 7ms/step\n",
      "Epoch 4/5\n",
      "300/300 - 2s - loss: 1.4761 - accuracy: 0.4687 - val_loss: 1.3524 - val_accuracy: 0.5136 - 2s/epoch - 7ms/step\n",
      "Epoch 5/5\n",
      "300/300 - 2s - loss: 1.4497 - accuracy: 0.4770 - val_loss: 1.3272 - val_accuracy: 0.5319 - 2s/epoch - 7ms/step\n",
      "CNN Error: 46.81%\n"
     ]
    }
   ],
   "source": [
    "#21BAI1479\n",
    "model = model4() \n",
    "model.fit(x_train, y_train, validation_data=(x_test, y_test), epochs=5, batch_size=200, \n",
    "verbose=2) \n",
    "scores = model.evaluate(x_test, y_test, verbose=0) \n",
    "print(\"CNN Error: %.2f%%\" % (100-scores[1]*100)) \n"
   ]
  },
  {
   "cell_type": "markdown",
   "metadata": {},
   "source": [
    "Normal Model -  padding present , 32 neurons , stride = 2 , kernel size = 3x3 MaxPooling size = 2,2"
   ]
  },
  {
   "cell_type": "code",
   "execution_count": 30,
   "metadata": {},
   "outputs": [],
   "source": [
    "#21BAI1479\n",
    "def model5():\n",
    "    model = Sequential()\n",
    "    model.add(Conv2D(32,(3,3),padding = 'same',strides = (2,2),input_shape = (28,28,1),activation = 'relu'))\n",
    "    model.add(MaxPooling2D(pool_size=(2, 2))) \n",
    "    model.add(Dropout(0.2)) \n",
    "    model.add(Flatten()) \n",
    "    model.add(Dense(1152, activation= 'relu' )) \n",
    "    model.add(Dense(128, activation= 'relu' )) \n",
    "    model.add(Dense(10, activation= 'softmax' )) \n",
    "    model.compile(loss= 'categorical_crossentropy' , optimizer= 'adam' , metrics=[ 'accuracy' ]) \n",
    "    return model"
   ]
  },
  {
   "cell_type": "code",
   "execution_count": 31,
   "metadata": {},
   "outputs": [
    {
     "name": "stdout",
     "output_type": "stream",
     "text": [
      "Epoch 1/5\n",
      "300/300 - 14s - loss: 1.2578 - accuracy: 0.8713 - val_loss: 0.1290 - val_accuracy: 0.9618 - 14s/epoch - 46ms/step\n",
      "Epoch 2/5\n",
      "300/300 - 13s - loss: 0.1339 - accuracy: 0.9601 - val_loss: 0.0764 - val_accuracy: 0.9774 - 13s/epoch - 45ms/step\n",
      "Epoch 3/5\n",
      "300/300 - 11s - loss: 0.0883 - accuracy: 0.9732 - val_loss: 0.0658 - val_accuracy: 0.9796 - 11s/epoch - 36ms/step\n",
      "Epoch 4/5\n",
      "300/300 - 12s - loss: 0.0641 - accuracy: 0.9801 - val_loss: 0.0629 - val_accuracy: 0.9816 - 12s/epoch - 40ms/step\n",
      "Epoch 5/5\n",
      "300/300 - 16s - loss: 0.0510 - accuracy: 0.9832 - val_loss: 0.0540 - val_accuracy: 0.9830 - 16s/epoch - 53ms/step\n",
      "CNN Error: 1.70%\n"
     ]
    }
   ],
   "source": [
    "#21BAI1479\n",
    "model = model5() \n",
    "model.fit(x_train, y_train, validation_data=(x_test, y_test), epochs=5, batch_size=200, \n",
    "verbose=2) \n",
    "scores = model.evaluate(x_test, y_test, verbose=0) \n",
    "print(\"CNN Error: %.2f%%\" % (100-scores[1]*100)) \n"
   ]
  },
  {
   "cell_type": "markdown",
   "metadata": {},
   "source": [
    "Hence it can be observed that a kernel size of (3,3) with a MaxPooling matrox size of (2,2) yields the lowest CNN error among all the 5 models."
   ]
  },
  {
   "cell_type": "code",
   "execution_count": 5,
   "metadata": {},
   "outputs": [],
   "source": [
    "#21BAI1479\n",
    "def FCCModel():\n",
    "    model = Sequential()\n",
    "    model.add(Dense(512,activation = 'relu',input_shape =(28,28,1)))\n",
    "    model.add(Dense(256,activation = 'relu',kernel_initializer='uniform'))\n",
    "    model.add(Flatten())\n",
    "    model.add(Dense(32,activation = 'relu',kernel_initializer='uniform'))\n",
    "    model.add(Dense(10,activation = 'softmax'))\n",
    "    model.compile(loss= 'categorical_crossentropy' , optimizer= 'adam' , metrics=[ 'accuracy' ]) \n",
    "    return model"
   ]
  },
  {
   "cell_type": "code",
   "execution_count": null,
   "metadata": {},
   "outputs": [],
   "source": [
    "#21BAI1479\n",
    "model = FCCModel()\n",
    "model.fit(x_train,y_train,validation_data = (x_test,y_test),epochs = 5,verbose = 0)\n",
    "scores = model.evaluate(x_test, y_test, verbose=0) \n",
    "print(\"FCC Error: %.2f%%\" % (100-scores[1]*100))"
   ]
  },
  {
   "cell_type": "markdown",
   "metadata": {},
   "source": [
    "Visualising Features and Feature Maps in CNN "
   ]
  },
  {
   "cell_type": "code",
   "execution_count": 2,
   "metadata": {},
   "outputs": [
    {
     "name": "stdout",
     "output_type": "stream",
     "text": [
      "block1_conv1 (3, 3, 3, 64)\n",
      "block1_conv2 (3, 3, 64, 64)\n",
      "block2_conv1 (3, 3, 64, 128)\n",
      "block2_conv2 (3, 3, 128, 128)\n",
      "block3_conv1 (3, 3, 128, 256)\n",
      "block3_conv2 (3, 3, 256, 256)\n",
      "block3_conv3 (3, 3, 256, 256)\n",
      "block4_conv1 (3, 3, 256, 512)\n",
      "block4_conv2 (3, 3, 512, 512)\n",
      "block4_conv3 (3, 3, 512, 512)\n",
      "block5_conv1 (3, 3, 512, 512)\n",
      "block5_conv2 (3, 3, 512, 512)\n",
      "block5_conv3 (3, 3, 512, 512)\n"
     ]
    }
   ],
   "source": [
    "#21BAI1479\n",
    "from keras.applications.vgg16 import VGG16\n",
    "model = VGG16()\n",
    "for layer in model.layers:\n",
    "    if 'conv' not in layer.name:                #consider only the convolution layers\n",
    "        continue\n",
    "    filter,bias = layer.get_weights()\n",
    "    print(layer.name,filter.shape)"
   ]
  },
  {
   "cell_type": "code",
   "execution_count": 3,
   "metadata": {},
   "outputs": [],
   "source": [
    "filters, biases = model.layers[1].get_weights()\n",
    "f_min, f_max = filters.min(), filters.max()\n",
    "filters = (filters - f_min) / (f_max - f_min)"
   ]
  },
  {
   "cell_type": "code",
   "execution_count": 9,
   "metadata": {},
   "outputs": [
    {
     "data": {
      "image/png": "[encoded data removed]",
      "text/plain": [
       "<Figure size 640x480 with 1 Axes>"
      ]
     },
     "metadata": {},
     "output_type": "display_data"
    },
    {
     "data": {
      "image/png": "[encoded data removed]",
      "text/plain": [
       "<Figure size 640x480 with 1 Axes>"
      ]
     },
     "metadata": {},
     "output_type": "display_data"
    },
    {
     "data": {
      "image/png": "[encoded data removed]",
      "text/plain": [
       "<Figure size 640x480 with 1 Axes>"
      ]
     },
     "metadata": {},
     "output_type": "display_data"
    },
    {
     "data": {
      "image/png": "[encoded data removed]",
      "text/plain": [
       "<Figure size 640x480 with 1 Axes>"
      ]
     },
     "metadata": {},
     "output_type": "display_data"
    },
    {
     "data": {
      "image/png": "[encoded data removed]",
      "text/plain": [
       "<Figure size 640x480 with 1 Axes>"
      ]
     },
     "metadata": {},
     "output_type": "display_data"
    },
    {
     "data": {
      "image/png": "[encoded data removed]",
      "text/plain": [
       "<Figure size 640x480 with 1 Axes>"
      ]
     },
     "metadata": {},
     "output_type": "display_data"
    },
    {
     "data": {
      "image/png": "[encoded data removed]",
      "text/plain": [
       "<Figure size 640x480 with 1 Axes>"
      ]
     },
     "metadata": {},
     "output_type": "display_data"
    },
    {
     "data": {
      "image/png": "[encoded data removed]",
      "text/plain": [
       "<Figure size 640x480 with 1 Axes>"
      ]
     },
     "metadata": {},
     "output_type": "display_data"
    },
    {
     "data": {
      "image/png": "[encoded data removed]",
      "text/plain": [
       "<Figure size 640x480 with 1 Axes>"
      ]
     },
     "metadata": {},
     "output_type": "display_data"
    },
    {
     "data": {
      "image/png": "[encoded data removed]",
      "text/plain": [
       "<Figure size 640x480 with 1 Axes>"
      ]
     },
     "metadata": {},
     "output_type": "display_data"
    },
    {
     "data": {
      "image/png": "[encoded data removed]",
      "text/plain": [
       "<Figure size 640x480 with 1 Axes>"
      ]
     },
     "metadata": {},
     "output_type": "display_data"
    },
    {
     "data": {
      "image/png": "[encoded data removed]",
      "text/plain": [
       "<Figure size 640x480 with 1 Axes>"
      ]
     },
     "metadata": {},
     "output_type": "display_data"
    }
   ],
   "source": [
    "\n",
    "n_filters, ix = 6, 1\n",
    "for i in range(n_filters):\n",
    "\n",
    " f = filter[:, :, :, i]\n",
    " for j in range(2):\n",
    "    ax = plt.subplot(n_filters, 3, ix)\n",
    "    ax.set_xticks([])\n",
    "    ax.set_yticks([])\n",
    "    \n",
    "    plt.imshow(f[:, :, j], cmap='gray')\n",
    "    ix += 1\n",
    "    plt.show()"
   ]
  },
  {
   "cell_type": "markdown",
   "metadata": {},
   "source": [
    "Feature Map Visualisation"
   ]
  },
  {
   "cell_type": "code",
   "execution_count": 14,
   "metadata": {},
   "outputs": [],
   "source": [
    "#21BAI1479\n",
    "from keras.applications.vgg16 import VGG16\n",
    "import matplotlib.pyplot as plt\n",
    "from tensorflow.keras.applications.vgg16 import preprocess_input\n",
    "from tensorflow.keras.preprocessing import image\n",
    "from tensorflow.keras.models import Model\n"
   ]
  },
  {
   "cell_type": "code",
   "execution_count": 15,
   "metadata": {},
   "outputs": [
    {
     "name": "stdout",
     "output_type": "stream",
     "text": [
      "1 block1_conv1 (None, 224, 224, 64)\n",
      "2 block1_conv2 (None, 224, 224, 64)\n",
      "4 block2_conv1 (None, 112, 112, 128)\n",
      "5 block2_conv2 (None, 112, 112, 128)\n",
      "7 block3_conv1 (None, 56, 56, 256)\n",
      "8 block3_conv2 (None, 56, 56, 256)\n",
      "9 block3_conv3 (None, 56, 56, 256)\n",
      "11 block4_conv1 (None, 28, 28, 512)\n",
      "12 block4_conv2 (None, 28, 28, 512)\n",
      "13 block4_conv3 (None, 28, 28, 512)\n",
      "15 block5_conv1 (None, 14, 14, 512)\n",
      "16 block5_conv2 (None, 14, 14, 512)\n",
      "17 block5_conv3 (None, 14, 14, 512)\n"
     ]
    }
   ],
   "source": [
    "#21BAI1479\n",
    "model = VGG16()\n",
    "for i in range(len(model.layers)):\n",
    "    layer = model.layers[i]\n",
    "\n",
    "    if 'conv' not in layer.name:\n",
    "        continue\n",
    "    print(i, layer.name, layer.output.shape)\n",
    "model = Model(inputs=model.inputs, outputs=model.layers[1].output)"
   ]
  },
  {
   "cell_type": "code",
   "execution_count": 16,
   "metadata": {},
   "outputs": [
    {
     "data": {
      "image/png": "[encoded data removed]",
      "text/plain": [
       "<PIL.Image.Image image mode=RGB size=224x224>"
      ]
     },
     "execution_count": 16,
     "metadata": {},
     "output_type": "execute_result"
    }
   ],
   "source": [
    "from PIL import Image\n",
    "img=Image.open('bird.jpg')\n",
    "img=img.resize((224,224))\n",
    "img"
   ]
  },
  {
   "cell_type": "code",
   "execution_count": 17,
   "metadata": {},
   "outputs": [
    {
     "name": "stdout",
     "output_type": "stream",
     "text": [
      "1/1 [==============================] - 0s 208ms/step\n"
     ]
    }
   ],
   "source": [
    "import numpy as np\n",
    "img = np.array(img) #make into numpy array\n",
    "img = np.expand_dims(img, axis=0)\n",
    "img = img.astype(np.float32)\n",
    "img /= 255.0\n",
    "img = preprocess_input(img)\n",
    "feature_maps = model.predict(img)"
   ]
  },
  {
   "cell_type": "code",
   "execution_count": 20,
   "metadata": {},
   "outputs": [
    {
     "data": {
      "image/png": "[encoded data removed]",
      "text/plain": [
       "<Figure size 640x480 with 64 Axes>"
      ]
     },
     "metadata": {},
     "output_type": "display_data"
    }
   ],
   "source": [
    "square = 8\n",
    "ix = 1\n",
    "for _ in range(square):\n",
    " for _ in range(square):\n",
    "  ax = plt.subplot(square, square, ix)\n",
    "  ax.set_xticks([])\n",
    "  ax.set_yticks([])\n",
    "  plt.imshow(feature_maps[0, :, :, ix-1], cmap='gray')\n",
    "  ix += 1\n",
    "plt.show()"
   ]
  },
  {
   "cell_type": "markdown",
   "metadata": {},
   "source": [
    "Applying CNN model to a CIFAR10 dataset and analysing its results"
   ]
  },
  {
   "cell_type": "code",
   "execution_count": 43,
   "metadata": {},
   "outputs": [],
   "source": [
    "#21BAI1479\n",
    "from tensorflow.keras.datasets import cifar10\n",
    "(x_train,y_train),(x_test,y_test) = cifar10.load_data()"
   ]
  },
  {
   "cell_type": "code",
   "execution_count": 44,
   "metadata": {},
   "outputs": [],
   "source": [
    "#21BAI1479\n",
    "x_train = x_train/255.0\n",
    "x_test = x_test/255.0\n",
    "y_train = to_categorical(y_train,num_classes = 10)\n",
    "y_test = to_categorical(y_test,num_classes = 10)\n"
   ]
  },
  {
   "cell_type": "code",
   "execution_count": 46,
   "metadata": {},
   "outputs": [
    {
     "name": "stdout",
     "output_type": "stream",
     "text": [
      "(50000, 32, 32, 3)\n",
      "(50000, 10)\n",
      "(10000, 32, 32, 3)\n",
      "(10000, 10)\n"
     ]
    }
   ],
   "source": [
    "#21BAI1479\n",
    "print(x_train.shape)\n",
    "print(y_train.shape)\n",
    "print(x_test.shape)\n",
    "print(y_test.shape)"
   ]
  },
  {
   "cell_type": "code",
   "execution_count": 49,
   "metadata": {},
   "outputs": [
    {
     "name": "stdout",
     "output_type": "stream",
     "text": [
      "FCC Error: 43.37%\n"
     ]
    }
   ],
   "source": [
    "#21BAI1479\n",
    "def LeNet5():\n",
    "    model = Sequential()\n",
    "    model.add(Conv2D(filters = 6,kernel_size=(5,5),activation='relu', input_shape=(32, 32, 3)))\n",
    "    model.add(MaxPooling2D(pool_size=(2,2)))\n",
    "    model.add(Conv2D(filters = 16,kernel_size=(5,5),activation='relu'))\n",
    "    model.add(AveragePooling2D(pool_size = (2,2)))\n",
    "    model.add(Flatten())\n",
    "    model.add(Dense(128,activation = 'relu'))\n",
    "    model.add(Dense(64,activation='relu'))\n",
    "    model.add(Dense(10,activation='softmax'))\n",
    "    model.compile(loss= 'categorical_crossentropy' , optimizer= 'adam' , metrics=[ 'accuracy' ]) \n",
    "    return model\n",
    "model = LeNet5()\n",
    "model.fit(x_train,y_train,epochs = 5,verbose = 0,batch_size = 64)\n",
    "scores = model.evaluate(x_test, y_test, verbose=0) \n",
    "print(\"FCC Error: %.2f%%\" % (100-scores[1]*100))"
   ]
  },
  {
   "cell_type": "markdown",
   "metadata": {},
   "source": [
    "Hence We can observe that in cases of feature extraction, CNN performs better than FCC"
   ]
  },
  {
   "cell_type": "markdown",
   "metadata": {},
   "source": [
    "AlexNet Implementation"
   ]
  },
  {
   "cell_type": "code",
   "execution_count": 4,
   "metadata": {},
   "outputs": [],
   "source": [
    "# Define the AlexNet model\n",
    "def AlexNet(input_shape):\n",
    "    model = Sequential()\n",
    "    model.add(Conv2D(96, kernel_size=(11, 11), strides=(4, 4), activation='relu', input_shape=input_shape))\n",
    "    model.add(MaxPooling2D(pool_size=(3, 3), strides=(2, 2)))\n",
    "    model.add(Conv2D(256, kernel_size=(5, 5), activation='relu', padding='same'))\n",
    "    model.add(MaxPooling2D(pool_size=(3, 3), strides=(2, 2)))\n",
    "    model.add(Conv2D(384, kernel_size=(3, 3), activation='relu', padding='same'))\n",
    "    model.add(Conv2D(384, kernel_size=(3, 3), activation='relu', padding='same'))\n",
    "    model.add(Conv2D(256, kernel_size=(3, 3), activation='relu', padding='same'))\n",
    "    model.add(MaxPooling2D(pool_size=(3, 3), strides=(2, 2)))\n",
    "    model.add(Flatten())\n",
    "    model.add(Dense(4096, activation='relu'))\n",
    "    model.add(Dropout(0.5))\n",
    "    model.add(Dense(4096, activation='relu'))\n",
    "    model.add(Dropout(0.5))\n",
    "    model.add(Dense(4, activation='softmax'))       #assuming 4 output classes\n",
    "    model.compile(loss='categorical_crossentropy', optimizer='adam', metrics=['accuracy'])\n",
    "    return model"
   ]
  },
  {
   "cell_type": "code",
   "execution_count": 5,
   "metadata": {},
   "outputs": [
    {
     "name": "stdout",
     "output_type": "stream",
     "text": [
      "Model: \"sequential\"\n",
      "_________________________________________________________________\n",
      " Layer (type)                Output Shape              Param #   \n",
      "=================================================================\n",
      " conv2d (Conv2D)             (None, 55, 55, 96)        34944     \n",
      "                                                                 \n",
      " max_pooling2d (MaxPooling2  (None, 27, 27, 96)        0         \n",
      " D)                                                              \n",
      "                                                                 \n",
      " conv2d_1 (Conv2D)           (None, 27, 27, 256)       614656    \n",
      "                                                                 \n",
      " max_pooling2d_1 (MaxPoolin  (None, 13, 13, 256)       0         \n",
      " g2D)                                                            \n",
      "                                                                 \n",
      " conv2d_2 (Conv2D)           (None, 13, 13, 384)       885120    \n",
      "                                                                 \n",
      " conv2d_3 (Conv2D)           (None, 13, 13, 384)       1327488   \n",
      "                                                                 \n",
      " conv2d_4 (Conv2D)           (None, 13, 13, 256)       884992    \n",
      "                                                                 \n",
      " max_pooling2d_2 (MaxPoolin  (None, 6, 6, 256)         0         \n",
      " g2D)                                                            \n",
      "                                                                 \n",
      " flatten (Flatten)           (None, 9216)              0         \n",
      "                                                                 \n",
      " dense (Dense)               (None, 4096)              37752832  \n",
      "                                                                 \n",
      " dropout (Dropout)           (None, 4096)              0         \n",
      "                                                                 \n",
      " dense_1 (Dense)             (None, 4096)              16781312  \n",
      "                                                                 \n",
      " dropout_1 (Dropout)         (None, 4096)              0         \n",
      "                                                                 \n",
      " dense_2 (Dense)             (None, 4)                 16388     \n",
      "                                                                 \n",
      "=================================================================\n",
      "Total params: 58297732 (222.39 MB)\n",
      "Trainable params: 58297732 (222.39 MB)\n",
      "Non-trainable params: 0 (0.00 Byte)\n",
      "_________________________________________________________________\n"
     ]
    }
   ],
   "source": [
    "input_shape = (227, 227, 3)\n",
    "model = AlexNet(input_shape)\n",
    "model.summary()"
   ]
  },
  {
   "cell_type": "code",
   "execution_count": null,
   "metadata": {},
   "outputs": [],
   "source": []
  }
 ],
 "metadata": {
  "kernelspec": {
   "display_name": "Python 3",
   "language": "python",
   "name": "python3"
  },
  "language_info": {
   "codemirror_mode": {
    "name": "ipython",
    "version": 3
   },
   "file_extension": ".py",
   "mimetype": "text/x-python",
   "name": "python",
   "nbconvert_exporter": "python",
   "pygments_lexer": "ipython3",
   "version": "3.11.3"
  }
 },
 "nbformat": 4,
 "nbformat_minor": 2
}
